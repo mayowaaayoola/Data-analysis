{
 "cells": [
  {
   "cell_type": "code",
   "execution_count": 1,
   "id": "5745402d",
   "metadata": {},
   "outputs": [],
   "source": [
    "import numpy as np"
   ]
  },
  {
   "cell_type": "code",
   "execution_count": 2,
   "id": "ba5a026b",
   "metadata": {},
   "outputs": [
    {
     "name": "stdout",
     "output_type": "stream",
     "text": [
      "[3 7 9]\n"
     ]
    }
   ],
   "source": [
    "a = np.array([3,7,9])\n",
    "print(a)"
   ]
  },
  {
   "cell_type": "code",
   "execution_count": 5,
   "id": "b9ccfc94",
   "metadata": {},
   "outputs": [
    {
     "name": "stdout",
     "output_type": "stream",
     "text": [
      "[[ 2.1  3.4  5. ]\n",
      " [ 1.  -1.   0. ]\n",
      " [ 2.   9.  -3. ]\n",
      " [ 4.5  6.2  8.3]]\n"
     ]
    }
   ],
   "source": [
    "b = np.array([[2.1,3.4,5.0],[1,-1,0],[2,9,-3],[4.5,6.2,8.3]])\n",
    "print(b)"
   ]
  },
  {
   "cell_type": "code",
   "execution_count": 26,
   "id": "1126ddb6",
   "metadata": {},
   "outputs": [
    {
     "name": "stdout",
     "output_type": "stream",
     "text": [
      "[[ -1.     1.     0.     9.  ]\n",
      " [ -2.9   -3.     1.4    0.  ]\n",
      " [ 30.   -21.    45.   -99.  ]\n",
      " [  3.    -7.    -9.     2.  ]\n",
      " [  1.2    0.8    6.6   -0.9 ]\n",
      " [-12.5    5.12   7.8   -0.4 ]\n",
      " [  3.    -4.2   -1.1    0.6 ]]\n"
     ]
    }
   ],
   "source": [
    "c = np.array([[-1,1,0,9],[-2.9,-3,1.4,0],[30,-21,45,-99],[3,-7,-9,2],[1.2,0.8,6.6,-0.9],[-12.5,5.12,7.8,-0.4],[3.0,-4.2,-1.1,.6]])\n",
    "print(c)"
   ]
  },
  {
   "cell_type": "code",
   "execution_count": 13,
   "id": "6064c915",
   "metadata": {},
   "outputs": [
    {
     "name": "stdout",
     "output_type": "stream",
     "text": [
      "\n"
     ]
    },
    {
     "data": {
      "text/plain": [
       "1"
      ]
     },
     "execution_count": 13,
     "metadata": {},
     "output_type": "execute_result"
    }
   ],
   "source": [
    "# How to know the dimension of your array\n",
    "\n",
    "print() # this prints an empty line in Python\n",
    "a.ndim"
   ]
  },
  {
   "cell_type": "code",
   "execution_count": 14,
   "id": "87d870c9",
   "metadata": {},
   "outputs": [
    {
     "name": "stdout",
     "output_type": "stream",
     "text": [
      "\n"
     ]
    },
    {
     "data": {
      "text/plain": [
       "2"
      ]
     },
     "execution_count": 14,
     "metadata": {},
     "output_type": "execute_result"
    }
   ],
   "source": [
    "# How to know the dimension of your array\n",
    "\n",
    "print() # this prints an empty line in Python\n",
    "b.ndim"
   ]
  },
  {
   "cell_type": "code",
   "execution_count": 21,
   "id": "4345779b",
   "metadata": {},
   "outputs": [
    {
     "name": "stdout",
     "output_type": "stream",
     "text": [
      "\n"
     ]
    },
    {
     "data": {
      "text/plain": [
       "2"
      ]
     },
     "execution_count": 21,
     "metadata": {},
     "output_type": "execute_result"
    }
   ],
   "source": [
    "# How to know the dimension of your array\n",
    "\n",
    "print() # this prints an empty line in Python\n",
    "c.ndim"
   ]
  },
  {
   "cell_type": "code",
   "execution_count": 15,
   "id": "9b9181a7",
   "metadata": {},
   "outputs": [
    {
     "data": {
      "text/plain": [
       "(3,)"
      ]
     },
     "execution_count": 15,
     "metadata": {},
     "output_type": "execute_result"
    }
   ],
   "source": [
    "# How to get the shape of your array\n",
    "\n",
    "a.shape"
   ]
  },
  {
   "cell_type": "code",
   "execution_count": 16,
   "id": "54e11001",
   "metadata": {},
   "outputs": [
    {
     "data": {
      "text/plain": [
       "(4, 3)"
      ]
     },
     "execution_count": 16,
     "metadata": {},
     "output_type": "execute_result"
    }
   ],
   "source": [
    "# How to get the shape of your array\n",
    "\n",
    "b.shape"
   ]
  },
  {
   "cell_type": "code",
   "execution_count": 22,
   "id": "d06c2ea7",
   "metadata": {},
   "outputs": [
    {
     "data": {
      "text/plain": [
       "(7, 4)"
      ]
     },
     "execution_count": 22,
     "metadata": {},
     "output_type": "execute_result"
    }
   ],
   "source": [
    "# How to get the shape of your array\n",
    "\n",
    "c.shape"
   ]
  },
  {
   "cell_type": "code",
   "execution_count": 23,
   "id": "a2fe6ce8",
   "metadata": {},
   "outputs": [
    {
     "data": {
      "text/plain": [
       "dtype('int32')"
      ]
     },
     "execution_count": 23,
     "metadata": {},
     "output_type": "execute_result"
    }
   ],
   "source": [
    "# How to get the data type\n",
    "\n",
    "a.dtype"
   ]
  },
  {
   "cell_type": "code",
   "execution_count": 24,
   "id": "1291dd88",
   "metadata": {},
   "outputs": [
    {
     "data": {
      "text/plain": [
       "dtype('float64')"
      ]
     },
     "execution_count": 24,
     "metadata": {},
     "output_type": "execute_result"
    }
   ],
   "source": [
    "# How to get the data type\n",
    "\n",
    "c.dtype"
   ]
  },
  {
   "cell_type": "code",
   "execution_count": 25,
   "id": "df3b17eb",
   "metadata": {},
   "outputs": [
    {
     "data": {
      "text/plain": [
       "dtype('float64')"
      ]
     },
     "execution_count": 25,
     "metadata": {},
     "output_type": "execute_result"
    }
   ],
   "source": [
    "# How to get the data type\n",
    "\n",
    "b.dtype"
   ]
  },
  {
   "cell_type": "code",
   "execution_count": 29,
   "id": "36cd2f73",
   "metadata": {},
   "outputs": [
    {
     "name": "stdout",
     "output_type": "stream",
     "text": [
      "[[ -1   1   0   9]\n",
      " [ -2  -3   1   0]\n",
      " [ 30 -21  45 -99]\n",
      " [  3  -7  -9   2]\n",
      " [  1   0   6   0]\n",
      " [-12   5   7   0]\n",
      " [  3  -4  -1   0]]\n"
     ]
    }
   ],
   "source": [
    "c = np.array([[-1,1,0,9],[-2.9,-3,1.4,0],[30,-21,45,-99],[3,-7,-9,2],[1.2,0.8,6.6,-0.9],[-12.5,5.12,7.8,-0.4],[3.0,-4.2,-1.1,.6]], dtype= 'int32')\n",
    "print(c)\n",
    "\n",
    "# Here, I changed the data type to int from float and also I reduced the size it should take to 4 bytes which is 32 bits (1 byte = 8 bits). 1 bit stores 1 binary which the computer understands i.e. 1 bit stores 0 or 1."
   ]
  },
  {
   "cell_type": "code",
   "execution_count": 30,
   "id": "2db039f3",
   "metadata": {},
   "outputs": [
    {
     "data": {
      "text/plain": [
       "8"
      ]
     },
     "execution_count": 30,
     "metadata": {},
     "output_type": "execute_result"
    }
   ],
   "source": [
    "# Get itemsize\n",
    "\n",
    "b.itemsize"
   ]
  },
  {
   "cell_type": "code",
   "execution_count": 31,
   "id": "53dd0109",
   "metadata": {},
   "outputs": [
    {
     "data": {
      "text/plain": [
       "4"
      ]
     },
     "execution_count": 31,
     "metadata": {},
     "output_type": "execute_result"
    }
   ],
   "source": [
    "# Get itemsize\n",
    "\n",
    "c.itemsize"
   ]
  },
  {
   "cell_type": "code",
   "execution_count": 32,
   "id": "c53c7ecd",
   "metadata": {},
   "outputs": [
    {
     "data": {
      "text/plain": [
       "4"
      ]
     },
     "execution_count": 32,
     "metadata": {},
     "output_type": "execute_result"
    }
   ],
   "source": [
    "# Get itemsize\n",
    "\n",
    "a.itemsize"
   ]
  },
  {
   "cell_type": "code",
   "execution_count": 33,
   "id": "13e6c89e",
   "metadata": {},
   "outputs": [
    {
     "data": {
      "text/plain": [
       "112"
      ]
     },
     "execution_count": 33,
     "metadata": {},
     "output_type": "execute_result"
    }
   ],
   "source": [
    "# Total number of bytes\n",
    "\n",
    "c.itemsize * c.size"
   ]
  },
  {
   "cell_type": "code",
   "execution_count": 34,
   "id": "7cd45dc2",
   "metadata": {},
   "outputs": [
    {
     "data": {
      "text/plain": [
       "96"
      ]
     },
     "execution_count": 34,
     "metadata": {},
     "output_type": "execute_result"
    }
   ],
   "source": [
    "# Total number of bytes (another method)\n",
    "\n",
    "b.nbytes"
   ]
  },
  {
   "cell_type": "code",
   "execution_count": 35,
   "id": "778a62af",
   "metadata": {},
   "outputs": [
    {
     "data": {
      "text/plain": [
       "112"
      ]
     },
     "execution_count": 35,
     "metadata": {},
     "output_type": "execute_result"
    }
   ],
   "source": [
    "# Total number of bytes (another method)\n",
    "\n",
    "c.nbytes"
   ]
  },
  {
   "cell_type": "code",
   "execution_count": 36,
   "id": "17a99dbe",
   "metadata": {},
   "outputs": [
    {
     "name": "stdout",
     "output_type": "stream",
     "text": [
      "[[ -1.     1.     0.     9.  ]\n",
      " [ -2.9   -3.     1.4    0.  ]\n",
      " [ 30.   -21.    45.   -99.  ]\n",
      " [  3.    -7.    -9.     2.  ]\n",
      " [  1.2    0.8    6.6   -0.9 ]\n",
      " [-12.5    5.12   7.8   -0.4 ]\n",
      " [  3.    -4.2   -1.1    0.6 ]]\n"
     ]
    }
   ],
   "source": [
    "c = np.array([[-1,1,0,9],[-2.9,-3,1.4,0],[30,-21,45,-99],[3,-7,-9,2],[1.2,0.8,6.6,-0.9],[-12.5,5.12,7.8,-0.4],[3.0,-4.2,-1.1,.6]])\n",
    "print(c)"
   ]
  },
  {
   "cell_type": "code",
   "execution_count": 38,
   "id": "f21e5824",
   "metadata": {},
   "outputs": [
    {
     "data": {
      "text/plain": [
       "(7, 4)"
      ]
     },
     "execution_count": 38,
     "metadata": {},
     "output_type": "execute_result"
    }
   ],
   "source": [
    "#Get shape\n",
    "\n",
    "c.shape"
   ]
  },
  {
   "cell_type": "code",
   "execution_count": 40,
   "id": "02949fb7",
   "metadata": {},
   "outputs": [
    {
     "data": {
      "text/plain": [
       "0.0"
      ]
     },
     "execution_count": 40,
     "metadata": {},
     "output_type": "execute_result"
    }
   ],
   "source": [
    "# Getting specific elements from your array\n",
    "# [r,c - row, column]\n",
    "\n",
    "c[1,3]"
   ]
  },
  {
   "cell_type": "code",
   "execution_count": 41,
   "id": "f17cf920",
   "metadata": {},
   "outputs": [
    {
     "data": {
      "text/plain": [
       "6.6"
      ]
     },
     "execution_count": 41,
     "metadata": {},
     "output_type": "execute_result"
    }
   ],
   "source": [
    "# Getting specific elements from your array\n",
    "# [r,c - row, column]\n",
    "\n",
    "c[4,2]"
   ]
  },
  {
   "cell_type": "code",
   "execution_count": 42,
   "id": "ca327177",
   "metadata": {},
   "outputs": [
    {
     "data": {
      "text/plain": [
       "1.0"
      ]
     },
     "execution_count": 42,
     "metadata": {},
     "output_type": "execute_result"
    }
   ],
   "source": [
    "# Getting specific elements from your array\n",
    "# [r,c - row, column]\n",
    "\n",
    "c[0,1]"
   ]
  },
  {
   "cell_type": "code",
   "execution_count": 44,
   "id": "4c63eb1b",
   "metadata": {},
   "outputs": [
    {
     "data": {
      "text/plain": [
       "-0.4"
      ]
     },
     "execution_count": 44,
     "metadata": {},
     "output_type": "execute_result"
    }
   ],
   "source": [
    "# Getting specific elements from your array\n",
    "# [r,c - row, column]\n",
    "\n",
    "c[-2,-1]"
   ]
  },
  {
   "cell_type": "code",
   "execution_count": 45,
   "id": "293ec028",
   "metadata": {},
   "outputs": [
    {
     "data": {
      "text/plain": [
       "-4.2"
      ]
     },
     "execution_count": 45,
     "metadata": {},
     "output_type": "execute_result"
    }
   ],
   "source": [
    "# Getting specific elements from your array\n",
    "# [r,c - row, column]\n",
    "\n",
    "c[-1,-3]"
   ]
  },
  {
   "cell_type": "code",
   "execution_count": 43,
   "id": "284c8fcc",
   "metadata": {
    "scrolled": true
   },
   "outputs": [
    {
     "name": "stdout",
     "output_type": "stream",
     "text": [
      "[[ -1.     1.     0.     9.  ]\n",
      " [ -2.9   -3.     1.4    0.  ]\n",
      " [ 30.   -21.    45.   -99.  ]\n",
      " [  3.    -7.    -9.     2.  ]\n",
      " [  1.2    0.8    6.6   -0.9 ]\n",
      " [-12.5    5.12   7.8   -0.4 ]\n",
      " [  3.    -4.2   -1.1    0.6 ]]\n"
     ]
    }
   ],
   "source": [
    "print(c)"
   ]
  },
  {
   "cell_type": "code",
   "execution_count": 46,
   "id": "87eb54cc",
   "metadata": {},
   "outputs": [
    {
     "data": {
      "text/plain": [
       "array([-1.,  1.,  0.,  9.])"
      ]
     },
     "execution_count": 46,
     "metadata": {},
     "output_type": "execute_result"
    }
   ],
   "source": [
    "# Getting a specific row\n",
    "\n",
    "c[0, :]"
   ]
  },
  {
   "cell_type": "code",
   "execution_count": 47,
   "id": "e078aca9",
   "metadata": {},
   "outputs": [
    {
     "data": {
      "text/plain": [
       "array([-2.9, -3. ,  1.4,  0. ])"
      ]
     },
     "execution_count": 47,
     "metadata": {},
     "output_type": "execute_result"
    }
   ],
   "source": [
    "# Getting a specific row\n",
    "\n",
    "c[1, :]"
   ]
  },
  {
   "cell_type": "code",
   "execution_count": 48,
   "id": "e0b89c90",
   "metadata": {},
   "outputs": [
    {
     "data": {
      "text/plain": [
       "array([ 1.2,  0.8,  6.6, -0.9])"
      ]
     },
     "execution_count": 48,
     "metadata": {},
     "output_type": "execute_result"
    }
   ],
   "source": [
    "# Getting a specific row\n",
    "\n",
    "c[4, :]"
   ]
  },
  {
   "cell_type": "code",
   "execution_count": 53,
   "id": "83d916dc",
   "metadata": {},
   "outputs": [
    {
     "data": {
      "text/plain": [
       "array([ 3., -7., -9.,  2.])"
      ]
     },
     "execution_count": 53,
     "metadata": {},
     "output_type": "execute_result"
    }
   ],
   "source": [
    "# Getting a specific row\n",
    "\n",
    "c[-4, :]"
   ]
  },
  {
   "cell_type": "code",
   "execution_count": 49,
   "id": "716d4383",
   "metadata": {},
   "outputs": [
    {
     "data": {
      "text/plain": [
       "array([ 0. ,  1.4, 45. , -9. ,  6.6,  7.8, -1.1])"
      ]
     },
     "execution_count": 49,
     "metadata": {},
     "output_type": "execute_result"
    }
   ],
   "source": [
    "# Getting a specific column\n",
    "\n",
    "c[:, 2]"
   ]
  },
  {
   "cell_type": "code",
   "execution_count": 50,
   "id": "fa688762",
   "metadata": {},
   "outputs": [
    {
     "data": {
      "text/plain": [
       "array([  9. ,   0. , -99. ,   2. ,  -0.9,  -0.4,   0.6])"
      ]
     },
     "execution_count": 50,
     "metadata": {},
     "output_type": "execute_result"
    }
   ],
   "source": [
    "# Getting a specific column\n",
    "\n",
    "c[:, -1]"
   ]
  },
  {
   "cell_type": "code",
   "execution_count": 52,
   "id": "f31758c4",
   "metadata": {},
   "outputs": [
    {
     "data": {
      "text/plain": [
       "array([  1.  ,  -3.  , -21.  ,  -7.  ,   0.8 ,   5.12,  -4.2 ])"
      ]
     },
     "execution_count": 52,
     "metadata": {},
     "output_type": "execute_result"
    }
   ],
   "source": [
    "# Getting a specific column\n",
    "\n",
    "c[:, -3]"
   ]
  },
  {
   "cell_type": "code",
   "execution_count": 54,
   "id": "16c1dcd3",
   "metadata": {},
   "outputs": [
    {
     "name": "stdout",
     "output_type": "stream",
     "text": [
      "[[ -1.     1.     0.     9.  ]\n",
      " [ -2.9   -3.     1.4    0.  ]\n",
      " [ 30.   -21.    45.   -99.  ]\n",
      " [  3.    -7.    -9.     2.  ]\n",
      " [  1.2    0.8    6.6   -0.9 ]\n",
      " [-12.5    5.12   7.8   -0.4 ]\n",
      " [  3.    -4.2   -1.1    0.6 ]]\n"
     ]
    }
   ],
   "source": [
    "print(c)"
   ]
  },
  {
   "cell_type": "code",
   "execution_count": 64,
   "id": "d932be46",
   "metadata": {},
   "outputs": [
    {
     "data": {
      "text/plain": [
       "array([1., 0.])"
      ]
     },
     "execution_count": 64,
     "metadata": {},
     "output_type": "execute_result"
    }
   ],
   "source": [
    "# Using startindex, endindex and stepsize\n",
    "#Getting elements from row\n",
    "c[0, 1:3:1]"
   ]
  },
  {
   "cell_type": "code",
   "execution_count": 65,
   "id": "4bc7c353",
   "metadata": {},
   "outputs": [
    {
     "data": {
      "text/plain": [
       "array([-1.,  0.])"
      ]
     },
     "execution_count": 65,
     "metadata": {},
     "output_type": "execute_result"
    }
   ],
   "source": [
    "# Using startindex, endindex and stepsize\n",
    "#Getting elements from row\n",
    "c[0, 0:3:2]"
   ]
  },
  {
   "cell_type": "code",
   "execution_count": 66,
   "id": "4c19cceb",
   "metadata": {},
   "outputs": [
    {
     "data": {
      "text/plain": [
       "array([-12.5,   7.8])"
      ]
     },
     "execution_count": 66,
     "metadata": {},
     "output_type": "execute_result"
    }
   ],
   "source": [
    "# Using startindex, endindex and stepsize\n",
    "#Getting elements from row\n",
    "c[-2, 0:-1:2]"
   ]
  },
  {
   "cell_type": "code",
   "execution_count": 67,
   "id": "3bba4474",
   "metadata": {},
   "outputs": [
    {
     "data": {
      "text/plain": [
       "array([ 0., 45.])"
      ]
     },
     "execution_count": 67,
     "metadata": {},
     "output_type": "execute_result"
    }
   ],
   "source": [
    "# Using startindex, endindex and stepsize\n",
    "#Getting elements from column\n",
    "c[0:3:2, 2]"
   ]
  },
  {
   "cell_type": "code",
   "execution_count": 68,
   "id": "3de54344",
   "metadata": {},
   "outputs": [
    {
     "data": {
      "text/plain": [
       "array([ 1.4, 45. , -9. ,  6.6,  7.8])"
      ]
     },
     "execution_count": 68,
     "metadata": {},
     "output_type": "execute_result"
    }
   ],
   "source": [
    "# Using startindex, endindex and stepsize\n",
    "#Getting elements from column\n",
    "c[1:-1:1, 2]"
   ]
  },
  {
   "cell_type": "code",
   "execution_count": 69,
   "id": "856575d8",
   "metadata": {},
   "outputs": [
    {
     "data": {
      "text/plain": [
       "array([], dtype=float64)"
      ]
     },
     "execution_count": 69,
     "metadata": {},
     "output_type": "execute_result"
    }
   ],
   "source": [
    "# Using startindex, endindex and stepsize\n",
    "#Getting elements from column\n",
    "c[-1:6:2, 3]"
   ]
  },
  {
   "cell_type": "code",
   "execution_count": 70,
   "id": "a55d967c",
   "metadata": {},
   "outputs": [
    {
     "data": {
      "text/plain": [
       "array([ 0. ,  2. , -0.4])"
      ]
     },
     "execution_count": 70,
     "metadata": {},
     "output_type": "execute_result"
    }
   ],
   "source": [
    "# Using startindex, endindex and stepsize\n",
    "#Getting elements from column\n",
    "c[1:6:2, 3]"
   ]
  },
  {
   "cell_type": "code",
   "execution_count": 72,
   "id": "9fe2141a",
   "metadata": {},
   "outputs": [
    {
     "name": "stdout",
     "output_type": "stream",
     "text": [
      "[[ -1.     1.     0.     9.  ]\n",
      " [ -2.9   -3.     1.4    0.  ]\n",
      " [ 30.   -21.    45.   -99.  ]\n",
      " [  3.    -7.    -9.     2.  ]\n",
      " [  1.2    0.8    6.6   -0.9 ]\n",
      " [-12.5    5.12   7.8   -0.4 ]\n",
      " [  3.    -4.2   34.     0.6 ]]\n"
     ]
    }
   ],
   "source": [
    "c[6,2] = 34\n",
    "print(c)"
   ]
  },
  {
   "cell_type": "code",
   "execution_count": 73,
   "id": "47e544f5",
   "metadata": {},
   "outputs": [
    {
     "name": "stdout",
     "output_type": "stream",
     "text": [
      "[[ -1.     1.    11.     9.  ]\n",
      " [ -2.9   -3.    11.     0.  ]\n",
      " [ 30.   -21.    11.   -99.  ]\n",
      " [  3.    -7.    11.     2.  ]\n",
      " [  1.2    0.8   11.    -0.9 ]\n",
      " [-12.5    5.12  11.    -0.4 ]\n",
      " [  3.    -4.2   11.     0.6 ]]\n"
     ]
    }
   ],
   "source": [
    "c[:, 2] = 11\n",
    "print(c)"
   ]
  },
  {
   "cell_type": "code",
   "execution_count": 75,
   "id": "844ccf7f",
   "metadata": {
    "scrolled": true
   },
   "outputs": [
    {
     "name": "stdout",
     "output_type": "stream",
     "text": [
      "[[ -1.     1.    11.     9.  ]\n",
      " [ -2.9   -3.    11.     0.  ]\n",
      " [ 30.   -21.    11.   -99.  ]\n",
      " [  3.    -7.    11.     2.  ]\n",
      " [-32.   -32.   -32.   -32.  ]\n",
      " [-12.5    5.12  11.    -0.4 ]\n",
      " [  3.    -4.2   11.     0.6 ]]\n"
     ]
    }
   ],
   "source": [
    "c[4, :] = -32\n",
    "print(c)"
   ]
  },
  {
   "cell_type": "code",
   "execution_count": 79,
   "id": "132fafdc",
   "metadata": {},
   "outputs": [
    {
     "name": "stdout",
     "output_type": "stream",
     "text": [
      "[[[ 1.2   0.3   4.5 ]\n",
      "  [ 6.   -5.    0.  ]\n",
      "  [ 1.    1.    1.  ]\n",
      "  [ 0.2  -6.6  -3.45]]\n",
      "\n",
      " [[ 4.1  -0.7  -2.  ]\n",
      "  [-9.    8.   -3.3 ]\n",
      "  [ 0.    0.    0.  ]\n",
      "  [ 4.   -5.    2.  ]]]\n"
     ]
    }
   ],
   "source": [
    "#3D Example\n",
    "f = np.array([[[1.2,0.3,4.5],[6,-5,0],[1,1,1],[0.2,-6.6,-3.45]],[[4.1,-0.7,-2],[-9,8,-3.3],[0,0,0],[4,-5,2]]])\n",
    "print(f)"
   ]
  },
  {
   "cell_type": "code",
   "execution_count": 80,
   "id": "5e538bc7",
   "metadata": {},
   "outputs": [
    {
     "data": {
      "text/plain": [
       "-5.0"
      ]
     },
     "execution_count": 80,
     "metadata": {},
     "output_type": "execute_result"
    }
   ],
   "source": [
    "#Get a specific element\n",
    "f[0,1,1]"
   ]
  },
  {
   "cell_type": "code",
   "execution_count": 81,
   "id": "89e7d17a",
   "metadata": {},
   "outputs": [
    {
     "data": {
      "text/plain": [
       "0.0"
      ]
     },
     "execution_count": 81,
     "metadata": {},
     "output_type": "execute_result"
    }
   ],
   "source": [
    "#Get a specific element\n",
    "f[1,2,0]"
   ]
  },
  {
   "cell_type": "code",
   "execution_count": 82,
   "id": "41f37a8f",
   "metadata": {},
   "outputs": [
    {
     "data": {
      "text/plain": [
       "-3.3"
      ]
     },
     "execution_count": 82,
     "metadata": {},
     "output_type": "execute_result"
    }
   ],
   "source": [
    "#Get a specific element\n",
    "f[1,-3,-1]"
   ]
  },
  {
   "cell_type": "code",
   "execution_count": 83,
   "id": "c7e17e2c",
   "metadata": {},
   "outputs": [
    {
     "data": {
      "text/plain": [
       "0.2"
      ]
     },
     "execution_count": 83,
     "metadata": {},
     "output_type": "execute_result"
    }
   ],
   "source": [
    "#Get a specific element\n",
    "f[-2,-1,-0]"
   ]
  },
  {
   "cell_type": "code",
   "execution_count": 84,
   "id": "1504f9e3",
   "metadata": {},
   "outputs": [
    {
     "data": {
      "text/plain": [
       "0.2"
      ]
     },
     "execution_count": 84,
     "metadata": {},
     "output_type": "execute_result"
    }
   ],
   "source": [
    "f[0,-1,-0]\n",
    "\n",
    "#Sample as input 83"
   ]
  },
  {
   "cell_type": "code",
   "execution_count": 85,
   "id": "227fdaf4",
   "metadata": {},
   "outputs": [
    {
     "name": "stdout",
     "output_type": "stream",
     "text": [
      "[[[ 1.2   0.3   4.5 ]\n",
      "  [ 6.   -5.    0.  ]\n",
      "  [ 1.    1.    1.  ]\n",
      "  [ 0.2  -6.6  -3.45]]\n",
      "\n",
      " [[ 4.1  -0.7  -2.  ]\n",
      "  [-9.    8.   -3.3 ]\n",
      "  [ 0.    0.    0.  ]\n",
      "  [ 4.   -5.    2.  ]]]\n"
     ]
    }
   ],
   "source": [
    "print(f)"
   ]
  },
  {
   "cell_type": "code",
   "execution_count": 86,
   "id": "87a65319",
   "metadata": {},
   "outputs": [
    {
     "data": {
      "text/plain": [
       "array([[ 1.2,  0.3,  4.5],\n",
       "       [ 4.1, -0.7, -2. ]])"
      ]
     },
     "execution_count": 86,
     "metadata": {},
     "output_type": "execute_result"
    }
   ],
   "source": [
    "#Now to get rows and columns from f\n",
    "# [x,y,z] - The x stands for the index of which array you are choosing out of both arrays, y stands for the row you are choosing and step helps you to narrow down on the column, when you use : (colon), it selects the whole rows or columns or the whole array, depending on how and where you used it.\n",
    "\n",
    "f[:,0,:]"
   ]
  },
  {
   "cell_type": "code",
   "execution_count": 87,
   "id": "85713599",
   "metadata": {},
   "outputs": [
    {
     "data": {
      "text/plain": [
       "array([[1., 1., 1.],\n",
       "       [0., 0., 0.]])"
      ]
     },
     "execution_count": 87,
     "metadata": {},
     "output_type": "execute_result"
    }
   ],
   "source": [
    "#Now to get rows and columns from f\n",
    "f[:,2,:]"
   ]
  },
  {
   "cell_type": "code",
   "execution_count": 88,
   "id": "670ac72a",
   "metadata": {},
   "outputs": [
    {
     "data": {
      "text/plain": [
       "array([[ 4.5 ,  0.  ,  1.  , -3.45],\n",
       "       [-2.  , -3.3 ,  0.  ,  2.  ]])"
      ]
     },
     "execution_count": 88,
     "metadata": {},
     "output_type": "execute_result"
    }
   ],
   "source": [
    "#Now to get rows and columns from f\n",
    "f[:,:,2]"
   ]
  },
  {
   "cell_type": "code",
   "execution_count": 89,
   "id": "2a6ced1e",
   "metadata": {},
   "outputs": [
    {
     "data": {
      "text/plain": [
       "array([[ 4.5 ,  0.  ,  1.  , -3.45],\n",
       "       [-2.  , -3.3 ,  0.  ,  2.  ]])"
      ]
     },
     "execution_count": 89,
     "metadata": {},
     "output_type": "execute_result"
    }
   ],
   "source": [
    "f[:,:,-1]"
   ]
  },
  {
   "cell_type": "code",
   "execution_count": 90,
   "id": "3522ea54",
   "metadata": {},
   "outputs": [
    {
     "data": {
      "text/plain": [
       "array([[ 1.2,  6. ,  1. ,  0.2],\n",
       "       [ 4.1, -9. ,  0. ,  4. ]])"
      ]
     },
     "execution_count": 90,
     "metadata": {},
     "output_type": "execute_result"
    }
   ],
   "source": [
    "f[:,:,-3]"
   ]
  },
  {
   "cell_type": "code",
   "execution_count": 91,
   "id": "79daa81d",
   "metadata": {},
   "outputs": [
    {
     "data": {
      "text/plain": [
       "array([-2. , -3.3,  0. ,  2. ])"
      ]
     },
     "execution_count": 91,
     "metadata": {},
     "output_type": "execute_result"
    }
   ],
   "source": [
    "f[1,:,2]"
   ]
  },
  {
   "cell_type": "code",
   "execution_count": 92,
   "id": "3cf1796e",
   "metadata": {},
   "outputs": [
    {
     "data": {
      "text/plain": [
       "array([ 0.3, -5. ,  1. , -6.6])"
      ]
     },
     "execution_count": 92,
     "metadata": {},
     "output_type": "execute_result"
    }
   ],
   "source": [
    "f[0,:,1]"
   ]
  },
  {
   "cell_type": "code",
   "execution_count": 93,
   "id": "f19737b2",
   "metadata": {},
   "outputs": [
    {
     "name": "stdout",
     "output_type": "stream",
     "text": [
      "[[[ 1.2   0.3   4.5 ]\n",
      "  [ 6.   -5.    0.  ]\n",
      "  [ 1.    1.    1.  ]\n",
      "  [ 0.2  -6.6  -3.45]]\n",
      "\n",
      " [[ 4.1  -0.7  -2.  ]\n",
      "  [-9.    8.   -3.3 ]\n",
      "  [ 0.    0.    0.  ]\n",
      "  [ 4.   -5.    2.  ]]]\n"
     ]
    }
   ],
   "source": [
    "print(f)"
   ]
  },
  {
   "cell_type": "code",
   "execution_count": 94,
   "id": "47c22b1d",
   "metadata": {},
   "outputs": [
    {
     "data": {
      "text/plain": [
       "array([ 0.2 , -6.6 , -3.45])"
      ]
     },
     "execution_count": 94,
     "metadata": {},
     "output_type": "execute_result"
    }
   ],
   "source": [
    "# Replacing elements\n",
    "\n",
    "f[-2,3,:]"
   ]
  },
  {
   "cell_type": "code",
   "execution_count": 97,
   "id": "f715c95e",
   "metadata": {},
   "outputs": [
    {
     "name": "stdout",
     "output_type": "stream",
     "text": [
      "[[[ 1.2  0.3  4.5]\n",
      "  [ 6.  -5.   0. ]\n",
      "  [ 1.   1.   1. ]\n",
      "  [13.  31.  33. ]]\n",
      "\n",
      " [[ 4.1 -0.7 -2. ]\n",
      "  [-9.   8.  -3.3]\n",
      "  [ 0.   0.   0. ]\n",
      "  [ 4.  -5.   2. ]]]\n"
     ]
    }
   ],
   "source": [
    "# Replacing elements\n",
    "\n",
    "f[-2,3,:] = [13,31,33]\n",
    "print(f)"
   ]
  },
  {
   "cell_type": "code",
   "execution_count": 98,
   "id": "dfeb4720",
   "metadata": {},
   "outputs": [
    {
     "name": "stdout",
     "output_type": "stream",
     "text": [
      "[[[ 1.2  0.3  4.5]\n",
      "  [ 6.  -5.   0. ]\n",
      "  [ 1.   1.   1. ]\n",
      "  [13.  31.  33. ]]\n",
      "\n",
      " [[ 4.1 -0.7 -2. ]\n",
      "  [-9.   8.  -3.3]\n",
      "  [ 0.   0.   0. ]\n",
      "  [ 4.  -5.   2. ]]]\n"
     ]
    }
   ],
   "source": [
    "print(f)"
   ]
  },
  {
   "cell_type": "code",
   "execution_count": 100,
   "id": "4ac46248",
   "metadata": {},
   "outputs": [
    {
     "data": {
      "text/plain": [
       "array([0., 0., 0.])"
      ]
     },
     "execution_count": 100,
     "metadata": {},
     "output_type": "execute_result"
    }
   ],
   "source": [
    "# Initializing Different Types of ARRAYS\n",
    "\n",
    "np.zeros(3)"
   ]
  },
  {
   "cell_type": "code",
   "execution_count": 107,
   "id": "79f7163c",
   "metadata": {},
   "outputs": [
    {
     "data": {
      "text/plain": [
       "array([0, 0, 0, 0, 0, 0, 0])"
      ]
     },
     "execution_count": 107,
     "metadata": {},
     "output_type": "execute_result"
    }
   ],
   "source": [
    "# Initializing Different Types of ARRAYS\n",
    "\n",
    "np.zeros((7,), dtype=int) # This dtype=int here is to change the output from float to int."
   ]
  },
  {
   "cell_type": "code",
   "execution_count": 108,
   "id": "67c7b41e",
   "metadata": {},
   "outputs": [
    {
     "data": {
      "text/plain": [
       "array([[0., 0., 0., 0., 0., 0., 0.],\n",
       "       [0., 0., 0., 0., 0., 0., 0.],\n",
       "       [0., 0., 0., 0., 0., 0., 0.],\n",
       "       [0., 0., 0., 0., 0., 0., 0.]])"
      ]
     },
     "execution_count": 108,
     "metadata": {},
     "output_type": "execute_result"
    }
   ],
   "source": [
    "np.zeros((4,7)) # 4 by 7 zero matrix"
   ]
  },
  {
   "cell_type": "code",
   "execution_count": 111,
   "id": "b6a72d85",
   "metadata": {},
   "outputs": [
    {
     "data": {
      "text/plain": [
       "array([[0, 0, 0, 0, 0, 0, 0, 0, 0, 0, 0, 0, 0, 0, 0, 0, 0, 0, 0, 0, 0, 0,\n",
       "        0, 0, 0, 0, 0, 0, 0, 0, 0, 0, 0, 0, 0, 0, 0],\n",
       "       [0, 0, 0, 0, 0, 0, 0, 0, 0, 0, 0, 0, 0, 0, 0, 0, 0, 0, 0, 0, 0, 0,\n",
       "        0, 0, 0, 0, 0, 0, 0, 0, 0, 0, 0, 0, 0, 0, 0],\n",
       "       [0, 0, 0, 0, 0, 0, 0, 0, 0, 0, 0, 0, 0, 0, 0, 0, 0, 0, 0, 0, 0, 0,\n",
       "        0, 0, 0, 0, 0, 0, 0, 0, 0, 0, 0, 0, 0, 0, 0],\n",
       "       [0, 0, 0, 0, 0, 0, 0, 0, 0, 0, 0, 0, 0, 0, 0, 0, 0, 0, 0, 0, 0, 0,\n",
       "        0, 0, 0, 0, 0, 0, 0, 0, 0, 0, 0, 0, 0, 0, 0],\n",
       "       [0, 0, 0, 0, 0, 0, 0, 0, 0, 0, 0, 0, 0, 0, 0, 0, 0, 0, 0, 0, 0, 0,\n",
       "        0, 0, 0, 0, 0, 0, 0, 0, 0, 0, 0, 0, 0, 0, 0],\n",
       "       [0, 0, 0, 0, 0, 0, 0, 0, 0, 0, 0, 0, 0, 0, 0, 0, 0, 0, 0, 0, 0, 0,\n",
       "        0, 0, 0, 0, 0, 0, 0, 0, 0, 0, 0, 0, 0, 0, 0],\n",
       "       [0, 0, 0, 0, 0, 0, 0, 0, 0, 0, 0, 0, 0, 0, 0, 0, 0, 0, 0, 0, 0, 0,\n",
       "        0, 0, 0, 0, 0, 0, 0, 0, 0, 0, 0, 0, 0, 0, 0],\n",
       "       [0, 0, 0, 0, 0, 0, 0, 0, 0, 0, 0, 0, 0, 0, 0, 0, 0, 0, 0, 0, 0, 0,\n",
       "        0, 0, 0, 0, 0, 0, 0, 0, 0, 0, 0, 0, 0, 0, 0],\n",
       "       [0, 0, 0, 0, 0, 0, 0, 0, 0, 0, 0, 0, 0, 0, 0, 0, 0, 0, 0, 0, 0, 0,\n",
       "        0, 0, 0, 0, 0, 0, 0, 0, 0, 0, 0, 0, 0, 0, 0],\n",
       "       [0, 0, 0, 0, 0, 0, 0, 0, 0, 0, 0, 0, 0, 0, 0, 0, 0, 0, 0, 0, 0, 0,\n",
       "        0, 0, 0, 0, 0, 0, 0, 0, 0, 0, 0, 0, 0, 0, 0],\n",
       "       [0, 0, 0, 0, 0, 0, 0, 0, 0, 0, 0, 0, 0, 0, 0, 0, 0, 0, 0, 0, 0, 0,\n",
       "        0, 0, 0, 0, 0, 0, 0, 0, 0, 0, 0, 0, 0, 0, 0],\n",
       "       [0, 0, 0, 0, 0, 0, 0, 0, 0, 0, 0, 0, 0, 0, 0, 0, 0, 0, 0, 0, 0, 0,\n",
       "        0, 0, 0, 0, 0, 0, 0, 0, 0, 0, 0, 0, 0, 0, 0]])"
      ]
     },
     "execution_count": 111,
     "metadata": {},
     "output_type": "execute_result"
    }
   ],
   "source": [
    "np.zeros((12,37), dtype=int) # 12 by 37 zero matrix with int datatype"
   ]
  },
  {
   "cell_type": "code",
   "execution_count": 118,
   "id": "9e2f996d",
   "metadata": {
    "scrolled": false
   },
   "outputs": [
    {
     "ename": "OptionError",
     "evalue": "\"No such keys(s): 'display.height'\"",
     "output_type": "error",
     "traceback": [
      "\u001b[1;31m---------------------------------------------------------------------------\u001b[0m",
      "\u001b[1;31mOptionError\u001b[0m                               Traceback (most recent call last)",
      "\u001b[1;32m~\\AppData\\Local\\Temp/ipykernel_38308/4007926643.py\u001b[0m in \u001b[0;36m<module>\u001b[1;34m\u001b[0m\n\u001b[0;32m      4\u001b[0m \u001b[1;32mimport\u001b[0m \u001b[0mnumpy\u001b[0m \u001b[1;32mas\u001b[0m \u001b[0mnp\u001b[0m\u001b[1;33m\u001b[0m\u001b[1;33m\u001b[0m\u001b[0m\n\u001b[0;32m      5\u001b[0m \u001b[1;33m\u001b[0m\u001b[0m\n\u001b[1;32m----> 6\u001b[1;33m \u001b[0mpd\u001b[0m\u001b[1;33m.\u001b[0m\u001b[0mset_option\u001b[0m\u001b[1;33m(\u001b[0m\u001b[1;34m'display.height'\u001b[0m\u001b[1;33m,\u001b[0m \u001b[1;36m1000\u001b[0m\u001b[1;33m)\u001b[0m\u001b[1;33m\u001b[0m\u001b[1;33m\u001b[0m\u001b[0m\n\u001b[0m\u001b[0;32m      7\u001b[0m \u001b[0mpd\u001b[0m\u001b[1;33m.\u001b[0m\u001b[0mset_option\u001b[0m\u001b[1;33m(\u001b[0m\u001b[1;34m'display.max_rows'\u001b[0m\u001b[1;33m,\u001b[0m \u001b[1;36m500\u001b[0m\u001b[1;33m)\u001b[0m\u001b[1;33m\u001b[0m\u001b[1;33m\u001b[0m\u001b[0m\n\u001b[0;32m      8\u001b[0m \u001b[0mpd\u001b[0m\u001b[1;33m.\u001b[0m\u001b[0mset_option\u001b[0m\u001b[1;33m(\u001b[0m\u001b[1;34m'display.max_columns'\u001b[0m\u001b[1;33m,\u001b[0m \u001b[1;36m500\u001b[0m\u001b[1;33m)\u001b[0m\u001b[1;33m\u001b[0m\u001b[1;33m\u001b[0m\u001b[0m\n",
      "\u001b[1;32mC:\\ProgramData\\Anaconda3\\lib\\site-packages\\pandas\\_config\\config.py\u001b[0m in \u001b[0;36m__call__\u001b[1;34m(self, *args, **kwds)\u001b[0m\n\u001b[0;32m    241\u001b[0m \u001b[1;33m\u001b[0m\u001b[0m\n\u001b[0;32m    242\u001b[0m     \u001b[1;32mdef\u001b[0m \u001b[0m__call__\u001b[0m\u001b[1;33m(\u001b[0m\u001b[0mself\u001b[0m\u001b[1;33m,\u001b[0m \u001b[1;33m*\u001b[0m\u001b[0margs\u001b[0m\u001b[1;33m,\u001b[0m \u001b[1;33m**\u001b[0m\u001b[0mkwds\u001b[0m\u001b[1;33m)\u001b[0m\u001b[1;33m:\u001b[0m\u001b[1;33m\u001b[0m\u001b[1;33m\u001b[0m\u001b[0m\n\u001b[1;32m--> 243\u001b[1;33m         \u001b[1;32mreturn\u001b[0m \u001b[0mself\u001b[0m\u001b[1;33m.\u001b[0m\u001b[0m__func__\u001b[0m\u001b[1;33m(\u001b[0m\u001b[1;33m*\u001b[0m\u001b[0margs\u001b[0m\u001b[1;33m,\u001b[0m \u001b[1;33m**\u001b[0m\u001b[0mkwds\u001b[0m\u001b[1;33m)\u001b[0m\u001b[1;33m\u001b[0m\u001b[1;33m\u001b[0m\u001b[0m\n\u001b[0m\u001b[0;32m    244\u001b[0m \u001b[1;33m\u001b[0m\u001b[0m\n\u001b[0;32m    245\u001b[0m     \u001b[1;33m@\u001b[0m\u001b[0mproperty\u001b[0m\u001b[1;33m\u001b[0m\u001b[1;33m\u001b[0m\u001b[0m\n",
      "\u001b[1;32mC:\\ProgramData\\Anaconda3\\lib\\site-packages\\pandas\\_config\\config.py\u001b[0m in \u001b[0;36m_set_option\u001b[1;34m(*args, **kwargs)\u001b[0m\n\u001b[0;32m    134\u001b[0m \u001b[1;33m\u001b[0m\u001b[0m\n\u001b[0;32m    135\u001b[0m     \u001b[1;32mfor\u001b[0m \u001b[0mk\u001b[0m\u001b[1;33m,\u001b[0m \u001b[0mv\u001b[0m \u001b[1;32min\u001b[0m \u001b[0mzip\u001b[0m\u001b[1;33m(\u001b[0m\u001b[0margs\u001b[0m\u001b[1;33m[\u001b[0m\u001b[1;33m:\u001b[0m\u001b[1;33m:\u001b[0m\u001b[1;36m2\u001b[0m\u001b[1;33m]\u001b[0m\u001b[1;33m,\u001b[0m \u001b[0margs\u001b[0m\u001b[1;33m[\u001b[0m\u001b[1;36m1\u001b[0m\u001b[1;33m:\u001b[0m\u001b[1;33m:\u001b[0m\u001b[1;36m2\u001b[0m\u001b[1;33m]\u001b[0m\u001b[1;33m)\u001b[0m\u001b[1;33m:\u001b[0m\u001b[1;33m\u001b[0m\u001b[1;33m\u001b[0m\u001b[0m\n\u001b[1;32m--> 136\u001b[1;33m         \u001b[0mkey\u001b[0m \u001b[1;33m=\u001b[0m \u001b[0m_get_single_key\u001b[0m\u001b[1;33m(\u001b[0m\u001b[0mk\u001b[0m\u001b[1;33m,\u001b[0m \u001b[0msilent\u001b[0m\u001b[1;33m)\u001b[0m\u001b[1;33m\u001b[0m\u001b[1;33m\u001b[0m\u001b[0m\n\u001b[0m\u001b[0;32m    137\u001b[0m \u001b[1;33m\u001b[0m\u001b[0m\n\u001b[0;32m    138\u001b[0m         \u001b[0mo\u001b[0m \u001b[1;33m=\u001b[0m \u001b[0m_get_registered_option\u001b[0m\u001b[1;33m(\u001b[0m\u001b[0mkey\u001b[0m\u001b[1;33m)\u001b[0m\u001b[1;33m\u001b[0m\u001b[1;33m\u001b[0m\u001b[0m\n",
      "\u001b[1;32mC:\\ProgramData\\Anaconda3\\lib\\site-packages\\pandas\\_config\\config.py\u001b[0m in \u001b[0;36m_get_single_key\u001b[1;34m(pat, silent)\u001b[0m\n\u001b[0;32m     99\u001b[0m         \u001b[1;32mif\u001b[0m \u001b[1;32mnot\u001b[0m \u001b[0msilent\u001b[0m\u001b[1;33m:\u001b[0m\u001b[1;33m\u001b[0m\u001b[1;33m\u001b[0m\u001b[0m\n\u001b[0;32m    100\u001b[0m             \u001b[0m_warn_if_deprecated\u001b[0m\u001b[1;33m(\u001b[0m\u001b[0mpat\u001b[0m\u001b[1;33m)\u001b[0m\u001b[1;33m\u001b[0m\u001b[1;33m\u001b[0m\u001b[0m\n\u001b[1;32m--> 101\u001b[1;33m         \u001b[1;32mraise\u001b[0m \u001b[0mOptionError\u001b[0m\u001b[1;33m(\u001b[0m\u001b[1;34mf\"No such keys(s): {repr(pat)}\"\u001b[0m\u001b[1;33m)\u001b[0m\u001b[1;33m\u001b[0m\u001b[1;33m\u001b[0m\u001b[0m\n\u001b[0m\u001b[0;32m    102\u001b[0m     \u001b[1;32mif\u001b[0m \u001b[0mlen\u001b[0m\u001b[1;33m(\u001b[0m\u001b[0mkeys\u001b[0m\u001b[1;33m)\u001b[0m \u001b[1;33m>\u001b[0m \u001b[1;36m1\u001b[0m\u001b[1;33m:\u001b[0m\u001b[1;33m\u001b[0m\u001b[1;33m\u001b[0m\u001b[0m\n\u001b[0;32m    103\u001b[0m         \u001b[1;32mraise\u001b[0m \u001b[0mOptionError\u001b[0m\u001b[1;33m(\u001b[0m\u001b[1;34m\"Pattern matched multiple keys\"\u001b[0m\u001b[1;33m)\u001b[0m\u001b[1;33m\u001b[0m\u001b[1;33m\u001b[0m\u001b[0m\n",
      "\u001b[1;31mOptionError\u001b[0m: \"No such keys(s): 'display.height'\""
     ]
    }
   ],
   "source": [
    "# HERE, I want to try to see the whole dataframe. Jupyter is showing me just parts of it because it is large\n",
    "\n",
    "import pandas as pd\n",
    "import numpy as np\n",
    "\n",
    "pd.set_option('display.height', 1000)\n",
    "pd.set_option('display.max_rows', 500)\n",
    "pd.set_option('display.max_columns', 500)\n",
    "pd.set_option('display.width', 1000)\n",
    "df\n",
    "\n",
    "g = np.zeros((133,329), dtype=float) # 133 by 329 zero matrix with int datatype, and I am naming it g\n",
    "print(g)\n",
    "\n",
    "#I AM NOT GETTING THIS!"
   ]
  },
  {
   "cell_type": "code",
   "execution_count": 123,
   "id": "e56f1983",
   "metadata": {},
   "outputs": [
    {
     "name": "stdout",
     "output_type": "stream",
     "text": [
      "[[0. 0. 0. ... 0. 0. 0.]\n",
      " [0. 0. 0. ... 0. 0. 0.]\n",
      " [0. 0. 0. ... 0. 0. 0.]\n",
      " ...\n",
      " [0. 0. 0. ... 0. 0. 0.]\n",
      " [0. 0. 0. ... 0. 0. 0.]\n",
      " [0. 0. 0. ... 0. 0. 0.]]\n"
     ]
    }
   ],
   "source": [
    "g = np.zeros((133,329), dtype=float) # 133 by 329 zero matrix with int datatype, and I am naming it g\n",
    "print(g)"
   ]
  },
  {
   "cell_type": "code",
   "execution_count": 119,
   "id": "b45b727d",
   "metadata": {},
   "outputs": [
    {
     "data": {
      "text/plain": [
       "array([[[[0, 0, 0],\n",
       "         [0, 0, 0]],\n",
       "\n",
       "        [[0, 0, 0],\n",
       "         [0, 0, 0]],\n",
       "\n",
       "        [[0, 0, 0],\n",
       "         [0, 0, 0]]],\n",
       "\n",
       "\n",
       "       [[[0, 0, 0],\n",
       "         [0, 0, 0]],\n",
       "\n",
       "        [[0, 0, 0],\n",
       "         [0, 0, 0]],\n",
       "\n",
       "        [[0, 0, 0],\n",
       "         [0, 0, 0]]],\n",
       "\n",
       "\n",
       "       [[[0, 0, 0],\n",
       "         [0, 0, 0]],\n",
       "\n",
       "        [[0, 0, 0],\n",
       "         [0, 0, 0]],\n",
       "\n",
       "        [[0, 0, 0],\n",
       "         [0, 0, 0]]],\n",
       "\n",
       "\n",
       "       [[[0, 0, 0],\n",
       "         [0, 0, 0]],\n",
       "\n",
       "        [[0, 0, 0],\n",
       "         [0, 0, 0]],\n",
       "\n",
       "        [[0, 0, 0],\n",
       "         [0, 0, 0]]]])"
      ]
     },
     "execution_count": 119,
     "metadata": {},
     "output_type": "execute_result"
    }
   ],
   "source": [
    "np.zeros((4,3,2,3), dtype=int)"
   ]
  },
  {
   "cell_type": "code",
   "execution_count": 120,
   "id": "60db978d",
   "metadata": {},
   "outputs": [
    {
     "data": {
      "text/plain": [
       "array([[[[0., 0., 0.],\n",
       "         [0., 0., 0.]],\n",
       "\n",
       "        [[0., 0., 0.],\n",
       "         [0., 0., 0.]],\n",
       "\n",
       "        [[0., 0., 0.],\n",
       "         [0., 0., 0.]]],\n",
       "\n",
       "\n",
       "       [[[0., 0., 0.],\n",
       "         [0., 0., 0.]],\n",
       "\n",
       "        [[0., 0., 0.],\n",
       "         [0., 0., 0.]],\n",
       "\n",
       "        [[0., 0., 0.],\n",
       "         [0., 0., 0.]]],\n",
       "\n",
       "\n",
       "       [[[0., 0., 0.],\n",
       "         [0., 0., 0.]],\n",
       "\n",
       "        [[0., 0., 0.],\n",
       "         [0., 0., 0.]],\n",
       "\n",
       "        [[0., 0., 0.],\n",
       "         [0., 0., 0.]]],\n",
       "\n",
       "\n",
       "       [[[0., 0., 0.],\n",
       "         [0., 0., 0.]],\n",
       "\n",
       "        [[0., 0., 0.],\n",
       "         [0., 0., 0.]],\n",
       "\n",
       "        [[0., 0., 0.],\n",
       "         [0., 0., 0.]]]])"
      ]
     },
     "execution_count": 120,
     "metadata": {},
     "output_type": "execute_result"
    }
   ],
   "source": [
    "np.zeros((4,3,2,3), dtype=float)"
   ]
  },
  {
   "cell_type": "code",
   "execution_count": 121,
   "id": "fb8abc4f",
   "metadata": {
    "scrolled": false
   },
   "outputs": [
    {
     "data": {
      "text/plain": [
       "array([[[[1, 1, 1, 1, 1],\n",
       "         [1, 1, 1, 1, 1],\n",
       "         [1, 1, 1, 1, 1]],\n",
       "\n",
       "        [[1, 1, 1, 1, 1],\n",
       "         [1, 1, 1, 1, 1],\n",
       "         [1, 1, 1, 1, 1]],\n",
       "\n",
       "        [[1, 1, 1, 1, 1],\n",
       "         [1, 1, 1, 1, 1],\n",
       "         [1, 1, 1, 1, 1]],\n",
       "\n",
       "        [[1, 1, 1, 1, 1],\n",
       "         [1, 1, 1, 1, 1],\n",
       "         [1, 1, 1, 1, 1]],\n",
       "\n",
       "        [[1, 1, 1, 1, 1],\n",
       "         [1, 1, 1, 1, 1],\n",
       "         [1, 1, 1, 1, 1]]],\n",
       "\n",
       "\n",
       "       [[[1, 1, 1, 1, 1],\n",
       "         [1, 1, 1, 1, 1],\n",
       "         [1, 1, 1, 1, 1]],\n",
       "\n",
       "        [[1, 1, 1, 1, 1],\n",
       "         [1, 1, 1, 1, 1],\n",
       "         [1, 1, 1, 1, 1]],\n",
       "\n",
       "        [[1, 1, 1, 1, 1],\n",
       "         [1, 1, 1, 1, 1],\n",
       "         [1, 1, 1, 1, 1]],\n",
       "\n",
       "        [[1, 1, 1, 1, 1],\n",
       "         [1, 1, 1, 1, 1],\n",
       "         [1, 1, 1, 1, 1]],\n",
       "\n",
       "        [[1, 1, 1, 1, 1],\n",
       "         [1, 1, 1, 1, 1],\n",
       "         [1, 1, 1, 1, 1]]],\n",
       "\n",
       "\n",
       "       [[[1, 1, 1, 1, 1],\n",
       "         [1, 1, 1, 1, 1],\n",
       "         [1, 1, 1, 1, 1]],\n",
       "\n",
       "        [[1, 1, 1, 1, 1],\n",
       "         [1, 1, 1, 1, 1],\n",
       "         [1, 1, 1, 1, 1]],\n",
       "\n",
       "        [[1, 1, 1, 1, 1],\n",
       "         [1, 1, 1, 1, 1],\n",
       "         [1, 1, 1, 1, 1]],\n",
       "\n",
       "        [[1, 1, 1, 1, 1],\n",
       "         [1, 1, 1, 1, 1],\n",
       "         [1, 1, 1, 1, 1]],\n",
       "\n",
       "        [[1, 1, 1, 1, 1],\n",
       "         [1, 1, 1, 1, 1],\n",
       "         [1, 1, 1, 1, 1]]],\n",
       "\n",
       "\n",
       "       [[[1, 1, 1, 1, 1],\n",
       "         [1, 1, 1, 1, 1],\n",
       "         [1, 1, 1, 1, 1]],\n",
       "\n",
       "        [[1, 1, 1, 1, 1],\n",
       "         [1, 1, 1, 1, 1],\n",
       "         [1, 1, 1, 1, 1]],\n",
       "\n",
       "        [[1, 1, 1, 1, 1],\n",
       "         [1, 1, 1, 1, 1],\n",
       "         [1, 1, 1, 1, 1]],\n",
       "\n",
       "        [[1, 1, 1, 1, 1],\n",
       "         [1, 1, 1, 1, 1],\n",
       "         [1, 1, 1, 1, 1]],\n",
       "\n",
       "        [[1, 1, 1, 1, 1],\n",
       "         [1, 1, 1, 1, 1],\n",
       "         [1, 1, 1, 1, 1]]],\n",
       "\n",
       "\n",
       "       [[[1, 1, 1, 1, 1],\n",
       "         [1, 1, 1, 1, 1],\n",
       "         [1, 1, 1, 1, 1]],\n",
       "\n",
       "        [[1, 1, 1, 1, 1],\n",
       "         [1, 1, 1, 1, 1],\n",
       "         [1, 1, 1, 1, 1]],\n",
       "\n",
       "        [[1, 1, 1, 1, 1],\n",
       "         [1, 1, 1, 1, 1],\n",
       "         [1, 1, 1, 1, 1]],\n",
       "\n",
       "        [[1, 1, 1, 1, 1],\n",
       "         [1, 1, 1, 1, 1],\n",
       "         [1, 1, 1, 1, 1]],\n",
       "\n",
       "        [[1, 1, 1, 1, 1],\n",
       "         [1, 1, 1, 1, 1],\n",
       "         [1, 1, 1, 1, 1]]],\n",
       "\n",
       "\n",
       "       [[[1, 1, 1, 1, 1],\n",
       "         [1, 1, 1, 1, 1],\n",
       "         [1, 1, 1, 1, 1]],\n",
       "\n",
       "        [[1, 1, 1, 1, 1],\n",
       "         [1, 1, 1, 1, 1],\n",
       "         [1, 1, 1, 1, 1]],\n",
       "\n",
       "        [[1, 1, 1, 1, 1],\n",
       "         [1, 1, 1, 1, 1],\n",
       "         [1, 1, 1, 1, 1]],\n",
       "\n",
       "        [[1, 1, 1, 1, 1],\n",
       "         [1, 1, 1, 1, 1],\n",
       "         [1, 1, 1, 1, 1]],\n",
       "\n",
       "        [[1, 1, 1, 1, 1],\n",
       "         [1, 1, 1, 1, 1],\n",
       "         [1, 1, 1, 1, 1]]]])"
      ]
     },
     "execution_count": 121,
     "metadata": {},
     "output_type": "execute_result"
    }
   ],
   "source": [
    "np.ones((6,5,3,5), dtype=int)"
   ]
  },
  {
   "cell_type": "code",
   "execution_count": 122,
   "id": "442ffb25",
   "metadata": {
    "scrolled": false
   },
   "outputs": [
    {
     "data": {
      "text/plain": [
       "array([[[[1., 1., 1., 1., 1.],\n",
       "         [1., 1., 1., 1., 1.],\n",
       "         [1., 1., 1., 1., 1.]],\n",
       "\n",
       "        [[1., 1., 1., 1., 1.],\n",
       "         [1., 1., 1., 1., 1.],\n",
       "         [1., 1., 1., 1., 1.]],\n",
       "\n",
       "        [[1., 1., 1., 1., 1.],\n",
       "         [1., 1., 1., 1., 1.],\n",
       "         [1., 1., 1., 1., 1.]],\n",
       "\n",
       "        [[1., 1., 1., 1., 1.],\n",
       "         [1., 1., 1., 1., 1.],\n",
       "         [1., 1., 1., 1., 1.]],\n",
       "\n",
       "        [[1., 1., 1., 1., 1.],\n",
       "         [1., 1., 1., 1., 1.],\n",
       "         [1., 1., 1., 1., 1.]]],\n",
       "\n",
       "\n",
       "       [[[1., 1., 1., 1., 1.],\n",
       "         [1., 1., 1., 1., 1.],\n",
       "         [1., 1., 1., 1., 1.]],\n",
       "\n",
       "        [[1., 1., 1., 1., 1.],\n",
       "         [1., 1., 1., 1., 1.],\n",
       "         [1., 1., 1., 1., 1.]],\n",
       "\n",
       "        [[1., 1., 1., 1., 1.],\n",
       "         [1., 1., 1., 1., 1.],\n",
       "         [1., 1., 1., 1., 1.]],\n",
       "\n",
       "        [[1., 1., 1., 1., 1.],\n",
       "         [1., 1., 1., 1., 1.],\n",
       "         [1., 1., 1., 1., 1.]],\n",
       "\n",
       "        [[1., 1., 1., 1., 1.],\n",
       "         [1., 1., 1., 1., 1.],\n",
       "         [1., 1., 1., 1., 1.]]],\n",
       "\n",
       "\n",
       "       [[[1., 1., 1., 1., 1.],\n",
       "         [1., 1., 1., 1., 1.],\n",
       "         [1., 1., 1., 1., 1.]],\n",
       "\n",
       "        [[1., 1., 1., 1., 1.],\n",
       "         [1., 1., 1., 1., 1.],\n",
       "         [1., 1., 1., 1., 1.]],\n",
       "\n",
       "        [[1., 1., 1., 1., 1.],\n",
       "         [1., 1., 1., 1., 1.],\n",
       "         [1., 1., 1., 1., 1.]],\n",
       "\n",
       "        [[1., 1., 1., 1., 1.],\n",
       "         [1., 1., 1., 1., 1.],\n",
       "         [1., 1., 1., 1., 1.]],\n",
       "\n",
       "        [[1., 1., 1., 1., 1.],\n",
       "         [1., 1., 1., 1., 1.],\n",
       "         [1., 1., 1., 1., 1.]]],\n",
       "\n",
       "\n",
       "       [[[1., 1., 1., 1., 1.],\n",
       "         [1., 1., 1., 1., 1.],\n",
       "         [1., 1., 1., 1., 1.]],\n",
       "\n",
       "        [[1., 1., 1., 1., 1.],\n",
       "         [1., 1., 1., 1., 1.],\n",
       "         [1., 1., 1., 1., 1.]],\n",
       "\n",
       "        [[1., 1., 1., 1., 1.],\n",
       "         [1., 1., 1., 1., 1.],\n",
       "         [1., 1., 1., 1., 1.]],\n",
       "\n",
       "        [[1., 1., 1., 1., 1.],\n",
       "         [1., 1., 1., 1., 1.],\n",
       "         [1., 1., 1., 1., 1.]],\n",
       "\n",
       "        [[1., 1., 1., 1., 1.],\n",
       "         [1., 1., 1., 1., 1.],\n",
       "         [1., 1., 1., 1., 1.]]],\n",
       "\n",
       "\n",
       "       [[[1., 1., 1., 1., 1.],\n",
       "         [1., 1., 1., 1., 1.],\n",
       "         [1., 1., 1., 1., 1.]],\n",
       "\n",
       "        [[1., 1., 1., 1., 1.],\n",
       "         [1., 1., 1., 1., 1.],\n",
       "         [1., 1., 1., 1., 1.]],\n",
       "\n",
       "        [[1., 1., 1., 1., 1.],\n",
       "         [1., 1., 1., 1., 1.],\n",
       "         [1., 1., 1., 1., 1.]],\n",
       "\n",
       "        [[1., 1., 1., 1., 1.],\n",
       "         [1., 1., 1., 1., 1.],\n",
       "         [1., 1., 1., 1., 1.]],\n",
       "\n",
       "        [[1., 1., 1., 1., 1.],\n",
       "         [1., 1., 1., 1., 1.],\n",
       "         [1., 1., 1., 1., 1.]]],\n",
       "\n",
       "\n",
       "       [[[1., 1., 1., 1., 1.],\n",
       "         [1., 1., 1., 1., 1.],\n",
       "         [1., 1., 1., 1., 1.]],\n",
       "\n",
       "        [[1., 1., 1., 1., 1.],\n",
       "         [1., 1., 1., 1., 1.],\n",
       "         [1., 1., 1., 1., 1.]],\n",
       "\n",
       "        [[1., 1., 1., 1., 1.],\n",
       "         [1., 1., 1., 1., 1.],\n",
       "         [1., 1., 1., 1., 1.]],\n",
       "\n",
       "        [[1., 1., 1., 1., 1.],\n",
       "         [1., 1., 1., 1., 1.],\n",
       "         [1., 1., 1., 1., 1.]],\n",
       "\n",
       "        [[1., 1., 1., 1., 1.],\n",
       "         [1., 1., 1., 1., 1.],\n",
       "         [1., 1., 1., 1., 1.]]]])"
      ]
     },
     "execution_count": 122,
     "metadata": {},
     "output_type": "execute_result"
    }
   ],
   "source": [
    "np.ones((6,5,3,5), dtype=float)"
   ]
  },
  {
   "cell_type": "code",
   "execution_count": 124,
   "id": "2f65e13d",
   "metadata": {
    "scrolled": false
   },
   "outputs": [
    {
     "data": {
      "text/plain": [
       "array([[[[1., 1., 1., 1., 1.],\n",
       "         [1., 1., 1., 1., 1.],\n",
       "         [1., 1., 1., 1., 1.]],\n",
       "\n",
       "        [[1., 1., 1., 1., 1.],\n",
       "         [1., 1., 1., 1., 1.],\n",
       "         [1., 1., 1., 1., 1.]],\n",
       "\n",
       "        [[1., 1., 1., 1., 1.],\n",
       "         [1., 1., 1., 1., 1.],\n",
       "         [1., 1., 1., 1., 1.]],\n",
       "\n",
       "        [[1., 1., 1., 1., 1.],\n",
       "         [1., 1., 1., 1., 1.],\n",
       "         [1., 1., 1., 1., 1.]],\n",
       "\n",
       "        [[1., 1., 1., 1., 1.],\n",
       "         [1., 1., 1., 1., 1.],\n",
       "         [1., 1., 1., 1., 1.]]],\n",
       "\n",
       "\n",
       "       [[[1., 1., 1., 1., 1.],\n",
       "         [1., 1., 1., 1., 1.],\n",
       "         [1., 1., 1., 1., 1.]],\n",
       "\n",
       "        [[1., 1., 1., 1., 1.],\n",
       "         [1., 1., 1., 1., 1.],\n",
       "         [1., 1., 1., 1., 1.]],\n",
       "\n",
       "        [[1., 1., 1., 1., 1.],\n",
       "         [1., 1., 1., 1., 1.],\n",
       "         [1., 1., 1., 1., 1.]],\n",
       "\n",
       "        [[1., 1., 1., 1., 1.],\n",
       "         [1., 1., 1., 1., 1.],\n",
       "         [1., 1., 1., 1., 1.]],\n",
       "\n",
       "        [[1., 1., 1., 1., 1.],\n",
       "         [1., 1., 1., 1., 1.],\n",
       "         [1., 1., 1., 1., 1.]]],\n",
       "\n",
       "\n",
       "       [[[1., 1., 1., 1., 1.],\n",
       "         [1., 1., 1., 1., 1.],\n",
       "         [1., 1., 1., 1., 1.]],\n",
       "\n",
       "        [[1., 1., 1., 1., 1.],\n",
       "         [1., 1., 1., 1., 1.],\n",
       "         [1., 1., 1., 1., 1.]],\n",
       "\n",
       "        [[1., 1., 1., 1., 1.],\n",
       "         [1., 1., 1., 1., 1.],\n",
       "         [1., 1., 1., 1., 1.]],\n",
       "\n",
       "        [[1., 1., 1., 1., 1.],\n",
       "         [1., 1., 1., 1., 1.],\n",
       "         [1., 1., 1., 1., 1.]],\n",
       "\n",
       "        [[1., 1., 1., 1., 1.],\n",
       "         [1., 1., 1., 1., 1.],\n",
       "         [1., 1., 1., 1., 1.]]],\n",
       "\n",
       "\n",
       "       [[[1., 1., 1., 1., 1.],\n",
       "         [1., 1., 1., 1., 1.],\n",
       "         [1., 1., 1., 1., 1.]],\n",
       "\n",
       "        [[1., 1., 1., 1., 1.],\n",
       "         [1., 1., 1., 1., 1.],\n",
       "         [1., 1., 1., 1., 1.]],\n",
       "\n",
       "        [[1., 1., 1., 1., 1.],\n",
       "         [1., 1., 1., 1., 1.],\n",
       "         [1., 1., 1., 1., 1.]],\n",
       "\n",
       "        [[1., 1., 1., 1., 1.],\n",
       "         [1., 1., 1., 1., 1.],\n",
       "         [1., 1., 1., 1., 1.]],\n",
       "\n",
       "        [[1., 1., 1., 1., 1.],\n",
       "         [1., 1., 1., 1., 1.],\n",
       "         [1., 1., 1., 1., 1.]]],\n",
       "\n",
       "\n",
       "       [[[1., 1., 1., 1., 1.],\n",
       "         [1., 1., 1., 1., 1.],\n",
       "         [1., 1., 1., 1., 1.]],\n",
       "\n",
       "        [[1., 1., 1., 1., 1.],\n",
       "         [1., 1., 1., 1., 1.],\n",
       "         [1., 1., 1., 1., 1.]],\n",
       "\n",
       "        [[1., 1., 1., 1., 1.],\n",
       "         [1., 1., 1., 1., 1.],\n",
       "         [1., 1., 1., 1., 1.]],\n",
       "\n",
       "        [[1., 1., 1., 1., 1.],\n",
       "         [1., 1., 1., 1., 1.],\n",
       "         [1., 1., 1., 1., 1.]],\n",
       "\n",
       "        [[1., 1., 1., 1., 1.],\n",
       "         [1., 1., 1., 1., 1.],\n",
       "         [1., 1., 1., 1., 1.]]],\n",
       "\n",
       "\n",
       "       [[[1., 1., 1., 1., 1.],\n",
       "         [1., 1., 1., 1., 1.],\n",
       "         [1., 1., 1., 1., 1.]],\n",
       "\n",
       "        [[1., 1., 1., 1., 1.],\n",
       "         [1., 1., 1., 1., 1.],\n",
       "         [1., 1., 1., 1., 1.]],\n",
       "\n",
       "        [[1., 1., 1., 1., 1.],\n",
       "         [1., 1., 1., 1., 1.],\n",
       "         [1., 1., 1., 1., 1.]],\n",
       "\n",
       "        [[1., 1., 1., 1., 1.],\n",
       "         [1., 1., 1., 1., 1.],\n",
       "         [1., 1., 1., 1., 1.]],\n",
       "\n",
       "        [[1., 1., 1., 1., 1.],\n",
       "         [1., 1., 1., 1., 1.],\n",
       "         [1., 1., 1., 1., 1.]]]], dtype=float32)"
      ]
     },
     "execution_count": 124,
     "metadata": {},
     "output_type": "execute_result"
    }
   ],
   "source": [
    "np.ones((6,5,3,5), dtype='float32')"
   ]
  },
  {
   "cell_type": "code",
   "execution_count": 125,
   "id": "1de8c547",
   "metadata": {},
   "outputs": [
    {
     "data": {
      "text/plain": [
       "array([[[[1, 1, 1, 1, 1],\n",
       "         [1, 1, 1, 1, 1],\n",
       "         [1, 1, 1, 1, 1]],\n",
       "\n",
       "        [[1, 1, 1, 1, 1],\n",
       "         [1, 1, 1, 1, 1],\n",
       "         [1, 1, 1, 1, 1]],\n",
       "\n",
       "        [[1, 1, 1, 1, 1],\n",
       "         [1, 1, 1, 1, 1],\n",
       "         [1, 1, 1, 1, 1]],\n",
       "\n",
       "        [[1, 1, 1, 1, 1],\n",
       "         [1, 1, 1, 1, 1],\n",
       "         [1, 1, 1, 1, 1]],\n",
       "\n",
       "        [[1, 1, 1, 1, 1],\n",
       "         [1, 1, 1, 1, 1],\n",
       "         [1, 1, 1, 1, 1]]],\n",
       "\n",
       "\n",
       "       [[[1, 1, 1, 1, 1],\n",
       "         [1, 1, 1, 1, 1],\n",
       "         [1, 1, 1, 1, 1]],\n",
       "\n",
       "        [[1, 1, 1, 1, 1],\n",
       "         [1, 1, 1, 1, 1],\n",
       "         [1, 1, 1, 1, 1]],\n",
       "\n",
       "        [[1, 1, 1, 1, 1],\n",
       "         [1, 1, 1, 1, 1],\n",
       "         [1, 1, 1, 1, 1]],\n",
       "\n",
       "        [[1, 1, 1, 1, 1],\n",
       "         [1, 1, 1, 1, 1],\n",
       "         [1, 1, 1, 1, 1]],\n",
       "\n",
       "        [[1, 1, 1, 1, 1],\n",
       "         [1, 1, 1, 1, 1],\n",
       "         [1, 1, 1, 1, 1]]]], dtype=int64)"
      ]
     },
     "execution_count": 125,
     "metadata": {},
     "output_type": "execute_result"
    }
   ],
   "source": [
    "np.ones((2,5,3,5), dtype='int64')"
   ]
  },
  {
   "cell_type": "code",
   "execution_count": 128,
   "id": "9849b0fd",
   "metadata": {},
   "outputs": [
    {
     "data": {
      "text/plain": [
       "array([[65.23, 65.23, 65.23, 65.23, 65.23, 65.23, 65.23],\n",
       "       [65.23, 65.23, 65.23, 65.23, 65.23, 65.23, 65.23],\n",
       "       [65.23, 65.23, 65.23, 65.23, 65.23, 65.23, 65.23],\n",
       "       [65.23, 65.23, 65.23, 65.23, 65.23, 65.23, 65.23]])"
      ]
     },
     "execution_count": 128,
     "metadata": {},
     "output_type": "execute_result"
    }
   ],
   "source": [
    "# matrix of any other number\n",
    "\n",
    "np.full((4,7), 65.23)"
   ]
  },
  {
   "cell_type": "code",
   "execution_count": 131,
   "id": "263d76b8",
   "metadata": {},
   "outputs": [
    {
     "ename": "TypeError",
     "evalue": "full() missing 1 required positional argument: 'fill_value'",
     "output_type": "error",
     "traceback": [
      "\u001b[1;31m---------------------------------------------------------------------------\u001b[0m",
      "\u001b[1;31mTypeError\u001b[0m                                 Traceback (most recent call last)",
      "\u001b[1;32m~\\AppData\\Local\\Temp/ipykernel_38308/1691568682.py\u001b[0m in \u001b[0;36m<module>\u001b[1;34m\u001b[0m\n\u001b[0;32m      1\u001b[0m \u001b[1;31m# matrix of any other number\u001b[0m\u001b[1;33m\u001b[0m\u001b[1;33m\u001b[0m\u001b[0m\n\u001b[0;32m      2\u001b[0m \u001b[1;33m\u001b[0m\u001b[0m\n\u001b[1;32m----> 3\u001b[1;33m \u001b[0mnp\u001b[0m\u001b[1;33m.\u001b[0m\u001b[0mfull\u001b[0m\u001b[1;33m(\u001b[0m\u001b[1;33m(\u001b[0m\u001b[1;33m(\u001b[0m\u001b[1;36m13\u001b[0m\u001b[1;33m,\u001b[0m\u001b[1;36m8\u001b[0m\u001b[1;33m)\u001b[0m\u001b[1;33m,\u001b[0m \u001b[1;36m65.23\u001b[0m\u001b[1;33m)\u001b[0m\u001b[1;33m,\u001b[0m \u001b[0mdtype\u001b[0m\u001b[1;33m=\u001b[0m\u001b[1;34m'int64'\u001b[0m\u001b[1;33m)\u001b[0m\u001b[1;33m\u001b[0m\u001b[1;33m\u001b[0m\u001b[0m\n\u001b[0m",
      "\u001b[1;31mTypeError\u001b[0m: full() missing 1 required positional argument: 'fill_value'"
     ]
    }
   ],
   "source": [
    "# matrix of any other number\n",
    "\n",
    "np.full(((13,8), 65.23), dtype='int64')"
   ]
  },
  {
   "cell_type": "code",
   "execution_count": 133,
   "id": "6334c3fb",
   "metadata": {},
   "outputs": [
    {
     "data": {
      "text/plain": [
       "array([[4.0007, 4.0007, 4.0007, 4.0007, 4.0007, 4.0007, 4.0007],\n",
       "       [4.0007, 4.0007, 4.0007, 4.0007, 4.0007, 4.0007, 4.0007],\n",
       "       [4.0007, 4.0007, 4.0007, 4.0007, 4.0007, 4.0007, 4.0007],\n",
       "       [4.0007, 4.0007, 4.0007, 4.0007, 4.0007, 4.0007, 4.0007],\n",
       "       [4.0007, 4.0007, 4.0007, 4.0007, 4.0007, 4.0007, 4.0007],\n",
       "       [4.0007, 4.0007, 4.0007, 4.0007, 4.0007, 4.0007, 4.0007],\n",
       "       [4.0007, 4.0007, 4.0007, 4.0007, 4.0007, 4.0007, 4.0007],\n",
       "       [4.0007, 4.0007, 4.0007, 4.0007, 4.0007, 4.0007, 4.0007],\n",
       "       [4.0007, 4.0007, 4.0007, 4.0007, 4.0007, 4.0007, 4.0007]])"
      ]
     },
     "execution_count": 133,
     "metadata": {},
     "output_type": "execute_result"
    }
   ],
   "source": [
    "# matrix of any other number\n",
    "\n",
    "np.full((9,7), 4.0007)"
   ]
  },
  {
   "cell_type": "code",
   "execution_count": 139,
   "id": "4be89a42",
   "metadata": {},
   "outputs": [
    {
     "data": {
      "text/plain": [
       "array([0, 0, 0])"
      ]
     },
     "execution_count": 139,
     "metadata": {},
     "output_type": "execute_result"
    }
   ],
   "source": [
    "# matrix or array of any other number like one that had been previously created\n",
    "\n",
    "np.full_like(f.shape, 0.00045)"
   ]
  },
  {
   "cell_type": "code",
   "execution_count": 136,
   "id": "f8ff237c",
   "metadata": {},
   "outputs": [
    {
     "data": {
      "text/plain": [
       "array([1, 1])"
      ]
     },
     "execution_count": 136,
     "metadata": {},
     "output_type": "execute_result"
    }
   ],
   "source": [
    "# matrix or array of any other number like one that had been previously created\n",
    "\n",
    "np.full_like(g.shape, 1.36)"
   ]
  },
  {
   "cell_type": "code",
   "execution_count": 137,
   "id": "924053d6",
   "metadata": {},
   "outputs": [
    {
     "data": {
      "text/plain": [
       "array([[1.36, 1.36, 1.36, ..., 1.36, 1.36, 1.36],\n",
       "       [1.36, 1.36, 1.36, ..., 1.36, 1.36, 1.36],\n",
       "       [1.36, 1.36, 1.36, ..., 1.36, 1.36, 1.36],\n",
       "       ...,\n",
       "       [1.36, 1.36, 1.36, ..., 1.36, 1.36, 1.36],\n",
       "       [1.36, 1.36, 1.36, ..., 1.36, 1.36, 1.36],\n",
       "       [1.36, 1.36, 1.36, ..., 1.36, 1.36, 1.36]])"
      ]
     },
     "execution_count": 137,
     "metadata": {},
     "output_type": "execute_result"
    }
   ],
   "source": [
    "# matrix or array of any other number like one that had been previously created.\n",
    "\n",
    "np.full_like(g, 1.36)"
   ]
  },
  {
   "cell_type": "code",
   "execution_count": 140,
   "id": "c33e6928",
   "metadata": {},
   "outputs": [
    {
     "data": {
      "text/plain": [
       "array([[[0.00045, 0.00045, 0.00045],\n",
       "        [0.00045, 0.00045, 0.00045],\n",
       "        [0.00045, 0.00045, 0.00045],\n",
       "        [0.00045, 0.00045, 0.00045]],\n",
       "\n",
       "       [[0.00045, 0.00045, 0.00045],\n",
       "        [0.00045, 0.00045, 0.00045],\n",
       "        [0.00045, 0.00045, 0.00045],\n",
       "        [0.00045, 0.00045, 0.00045]]])"
      ]
     },
     "execution_count": 140,
     "metadata": {},
     "output_type": "execute_result"
    }
   ],
   "source": [
    "# matrix or array of any other number like one that had been previously created\n",
    "\n",
    "np.full_like(f, 0.00045)"
   ]
  },
  {
   "cell_type": "code",
   "execution_count": 141,
   "id": "eb4919ab",
   "metadata": {},
   "outputs": [
    {
     "data": {
      "text/plain": [
       "array([[[0.00045, 0.00045, 0.00045],\n",
       "        [0.00045, 0.00045, 0.00045],\n",
       "        [0.00045, 0.00045, 0.00045],\n",
       "        [0.00045, 0.00045, 0.00045]],\n",
       "\n",
       "       [[0.00045, 0.00045, 0.00045],\n",
       "        [0.00045, 0.00045, 0.00045],\n",
       "        [0.00045, 0.00045, 0.00045],\n",
       "        [0.00045, 0.00045, 0.00045]]])"
      ]
     },
     "execution_count": 141,
     "metadata": {},
     "output_type": "execute_result"
    }
   ],
   "source": [
    "# matrix or array of any other number like one that had been previously created. Another way of doing Input 140\n",
    "\n",
    "np.full(f.shape, 0.00045)"
   ]
  },
  {
   "cell_type": "code",
   "execution_count": 142,
   "id": "8f653367",
   "metadata": {},
   "outputs": [
    {
     "data": {
      "text/plain": [
       "array([[1.36, 1.36, 1.36, ..., 1.36, 1.36, 1.36],\n",
       "       [1.36, 1.36, 1.36, ..., 1.36, 1.36, 1.36],\n",
       "       [1.36, 1.36, 1.36, ..., 1.36, 1.36, 1.36],\n",
       "       ...,\n",
       "       [1.36, 1.36, 1.36, ..., 1.36, 1.36, 1.36],\n",
       "       [1.36, 1.36, 1.36, ..., 1.36, 1.36, 1.36],\n",
       "       [1.36, 1.36, 1.36, ..., 1.36, 1.36, 1.36]])"
      ]
     },
     "execution_count": 142,
     "metadata": {},
     "output_type": "execute_result"
    }
   ],
   "source": [
    "# matrix or array of any other number like one that had been previously created. Another way of doing Input 137.\n",
    "\n",
    "np.full_like(g, 1.36)"
   ]
  },
  {
   "cell_type": "code",
   "execution_count": 143,
   "id": "4da6bbc6",
   "metadata": {},
   "outputs": [
    {
     "data": {
      "text/plain": [
       "array([[0.48469272, 0.20938572, 0.25808728, 0.7026451 , 0.41522076],\n",
       "       [0.97938469, 0.7209457 , 0.83354041, 0.37796714, 0.60831635],\n",
       "       [0.02457571, 0.9910642 , 0.06272022, 0.97460139, 0.9534683 ]])"
      ]
     },
     "execution_count": 143,
     "metadata": {},
     "output_type": "execute_result"
    }
   ],
   "source": [
    "# Initializing arrays of random decimals\n",
    "\n",
    "np.random.rand(3,5)"
   ]
  },
  {
   "cell_type": "code",
   "execution_count": 144,
   "id": "60b57744",
   "metadata": {},
   "outputs": [
    {
     "data": {
      "text/plain": [
       "array([[[0.85725152, 0.78134617, 0.78040576, 0.77362564, 0.57380093],\n",
       "        [0.27954818, 0.91626435, 0.78995808, 0.42779989, 0.7069331 ],\n",
       "        [0.70510707, 0.97740459, 0.32146919, 0.96189425, 0.44815814]],\n",
       "\n",
       "       [[0.79128709, 0.58375523, 0.73004327, 0.7977652 , 0.45856608],\n",
       "        [0.65071179, 0.12101938, 0.81369861, 0.34617537, 0.39971154],\n",
       "        [0.78468925, 0.88509829, 0.62558479, 0.92935947, 0.88282367]],\n",
       "\n",
       "       [[0.6747689 , 0.33418368, 0.21275229, 0.89987881, 0.8612621 ],\n",
       "        [0.33473641, 0.67393517, 0.5611968 , 0.580092  , 0.13549753],\n",
       "        [0.31438897, 0.93775786, 0.88538985, 0.77350168, 0.13017565]],\n",
       "\n",
       "       [[0.6606819 , 0.94746671, 0.01438112, 0.79369237, 0.05746821],\n",
       "        [0.76090129, 0.65737018, 0.31249623, 0.8853855 , 0.22139068],\n",
       "        [0.80940285, 0.3200548 , 0.08264823, 0.29006349, 0.59123746]],\n",
       "\n",
       "       [[0.23285308, 0.37841348, 0.07920417, 0.58677022, 0.9524742 ],\n",
       "        [0.23247824, 0.52689969, 0.63551482, 0.24557259, 0.32304388],\n",
       "        [0.82845998, 0.03582034, 0.02447375, 0.91006526, 0.63046664]],\n",
       "\n",
       "       [[0.44380662, 0.58913944, 0.47734887, 0.59089706, 0.09218927],\n",
       "        [0.32481577, 0.24557412, 0.36090036, 0.74037447, 0.93052295],\n",
       "        [0.02258582, 0.51291281, 0.89282054, 0.66980451, 0.52290874]],\n",
       "\n",
       "       [[0.70252106, 0.50409181, 0.71705772, 0.08296325, 0.22509067],\n",
       "        [0.49757726, 0.32883581, 0.96369988, 0.5487619 , 0.90467798],\n",
       "        [0.01764841, 0.39862257, 0.94161961, 0.5115289 , 0.69254203]]])"
      ]
     },
     "execution_count": 144,
     "metadata": {},
     "output_type": "execute_result"
    }
   ],
   "source": [
    "# Initializing arrays of random decimals\n",
    "\n",
    "np.random.rand(7,3,5)"
   ]
  },
  {
   "cell_type": "code",
   "execution_count": 145,
   "id": "c403a155",
   "metadata": {},
   "outputs": [
    {
     "data": {
      "text/plain": [
       "array([[0.88800354, 0.39793273, 0.43015593, ..., 0.84809793, 0.33255815,\n",
       "        0.1793373 ],\n",
       "       [0.303352  , 0.21857165, 0.54507611, ..., 0.05482512, 0.30177301,\n",
       "        0.53246297],\n",
       "       [0.56160549, 0.03623851, 0.99004095, ..., 0.18856869, 0.2269439 ,\n",
       "        0.58424797],\n",
       "       ...,\n",
       "       [0.13125497, 0.15438798, 0.30508547, ..., 0.4294783 , 0.37263853,\n",
       "        0.80883386],\n",
       "       [0.57597547, 0.38145128, 0.24289238, ..., 0.90135466, 0.86008021,\n",
       "        0.29164123],\n",
       "       [0.94623507, 0.85872338, 0.90119004, ..., 0.95546165, 0.06264948,\n",
       "        0.22266205]])"
      ]
     },
     "execution_count": 145,
     "metadata": {},
     "output_type": "execute_result"
    }
   ],
   "source": [
    "# Initializing arrays of random decimals that is like a previously made array\n",
    "\n",
    "np.random.random_sample(g.shape)"
   ]
  },
  {
   "cell_type": "code",
   "execution_count": 146,
   "id": "13f8a2a7",
   "metadata": {},
   "outputs": [
    {
     "data": {
      "text/plain": [
       "array([[[0.34788355, 0.69609599, 0.21723914],\n",
       "        [0.40747922, 0.82383053, 0.79960388],\n",
       "        [0.0403017 , 0.00566736, 0.41029691],\n",
       "        [0.74241015, 0.72036265, 0.0724269 ]],\n",
       "\n",
       "       [[0.80941167, 0.10388445, 0.27256605],\n",
       "        [0.77323223, 0.50896744, 0.10959162],\n",
       "        [0.04341737, 0.86761501, 0.59912355],\n",
       "        [0.65278227, 0.30125723, 0.16761648]]])"
      ]
     },
     "execution_count": 146,
     "metadata": {},
     "output_type": "execute_result"
    }
   ],
   "source": [
    "# Initializing arrays of random decimals that is like a previously made array\n",
    "\n",
    "np.random.random_sample(f.shape)"
   ]
  },
  {
   "cell_type": "code",
   "execution_count": 161,
   "id": "d141cef1",
   "metadata": {},
   "outputs": [
    {
     "data": {
      "text/plain": [
       "4"
      ]
     },
     "execution_count": 161,
     "metadata": {},
     "output_type": "execute_result"
    }
   ],
   "source": [
    "# Initializing arrays of random integers\n",
    "\n",
    "np.random.randint(5) #This gives us just a random integer that is less than 5."
   ]
  },
  {
   "cell_type": "code",
   "execution_count": 164,
   "id": "f95704a3",
   "metadata": {},
   "outputs": [
    {
     "data": {
      "text/plain": [
       "array([[1, 0, 4, 6, 5, 4],\n",
       "       [8, 6, 6, 5, 4, 4],\n",
       "       [5, 3, 1, 7, 6, 8],\n",
       "       [8, 0, 5, 5, 0, 3],\n",
       "       [2, 8, 1, 2, 0, 2]])"
      ]
     },
     "execution_count": 164,
     "metadata": {},
     "output_type": "execute_result"
    }
   ],
   "source": [
    "# Initializing arrays of random integers\n",
    "\n",
    "np.random.randint(9, size=(5,6))   #This gives us an array of integers, with the specified rows and columns, less than 9."
   ]
  },
  {
   "cell_type": "code",
   "execution_count": 165,
   "id": "7ca390f2",
   "metadata": {},
   "outputs": [
    {
     "data": {
      "text/plain": [
       "array([[ 0,  8,  8, 11,  8,  7, -6, -5, 10,  7, 10,  9],\n",
       "       [-6,  8, 10, 11, 11,  9, 12, -5,  9, -1,  2, 11],\n",
       "       [ 2, -1, -7,  3,  5, 12, -6, -2,  0,  0,  8, -2],\n",
       "       [-6,  1, -3, 11, -3, 12, -7,  7,  5, 12, -6, -8],\n",
       "       [ 3, 10,  1, 11, -3, -3, 10, -1, 10,  9,  2,  2],\n",
       "       [ 8,  1, 13, -8,  2, 13,  1, -6, -3, -5,  0,  0],\n",
       "       [-3,  5, -8, -1,  9,  1, -4,  0, 13, -7, -2, -2],\n",
       "       [ 7, 10,  0,  2, 13,  9, -1, -5, -1,  7, -1,  4]])"
      ]
     },
     "execution_count": 165,
     "metadata": {},
     "output_type": "execute_result"
    }
   ],
   "source": [
    "# Initializing arrays of random integers\n",
    "\n",
    "np.random.randint(-8,14, size=(8,12))   #This gives us an array of integers, with the specified rows and columns, within the range of -8 and 14."
   ]
  },
  {
   "cell_type": "code",
   "execution_count": 166,
   "id": "276988ec",
   "metadata": {},
   "outputs": [
    {
     "data": {
      "text/plain": [
       "array([[[ 3,  8, 12,  1, 11,  7, -5, -2, -6,  4, 10,  2],\n",
       "        [ 1, -3,  6,  2,  2,  3, -4,  1, -3, -4, 10, 11],\n",
       "        [11, 11, -4,  7, 11, -8,  0,  7,  8,  6, 12,  5],\n",
       "        [ 4,  3,  6,  9,  5,  1, 13,  1, -2, -7, 13,  3],\n",
       "        [ 7,  5, -8, -3,  9, -4, -3, 13,  0, 13,  2,  5],\n",
       "        [12, -1,  7, -2, -7,  4, 11,  8, 12, -3, -4, -8],\n",
       "        [-2, -6, -7,  8, -1,  1, -1, 10, -7, 13,  1, 11],\n",
       "        [ 3,  8, 11, 10, 10, -1,  0,  4,  7,  2,  7,  1]],\n",
       "\n",
       "       [[ 3,  6,  9, 11, -5, -6,  9, -1, -4, -2,  9, -3],\n",
       "        [-2,  5,  4, -3, -2, -4, -6, -3,  3,  2, 10, 12],\n",
       "        [-7,  3,  8, 10,  9,  3, -5, -4,  3,  2,  5, 13],\n",
       "        [-6, -2, -1, -3,  2, -4, -2, -8, -4, 12, -2, 13],\n",
       "        [ 2, -6,  6, -6,  4, -6,  2,  9,  3,  1, -5, -7],\n",
       "        [ 5,  7,  7, -4,  7,  5,  8,  3, 12, 12,  9, -3],\n",
       "        [ 0, -4,  5, 10, -8,  9,  9, -1, 10, -3,  6, -7],\n",
       "        [-1,  2, 13,  8, 12,  9, -8,  3,  7, -7,  8,  5]],\n",
       "\n",
       "       [[-1,  7, -3,  3, -1, -4, -2, -6, 13, 10, -7,  0],\n",
       "        [11, -8,  6,  1,  2,  5, -2, 12,  4, -8, -5,  0],\n",
       "        [10, -6, -6, 11,  2, -6, -4, -6,  8,  3, -3, -3],\n",
       "        [ 1, -7, 11, 13,  7, -1,  0,  9, -7, 11, -8, -1],\n",
       "        [ 7,  3, -4, 11, -8, 12,  4,  3,  0,  7, -7, -7],\n",
       "        [-2, -4,  8, 12,  8, -2, -2,  1, -5, 13, 10,  5],\n",
       "        [-5,  8, 13,  1,  1,  4, 10,  9, 10,  5, -1, -4],\n",
       "        [ 9,  9,  3,  3,  7,  6, -5, -1,  3,  2,  3, 12]],\n",
       "\n",
       "       [[ 2,  2,  6, -6,  9,  4, -5, 11,  3,  9,  8, -5],\n",
       "        [-1, -6,  4,  3,  3, -7, 10,  3, 10, 11,  7, -6],\n",
       "        [-8, -3, -1, 12, -5,  0,  3,  1,  5, -8, -4,  9],\n",
       "        [ 1,  5, 13, 11, 13,  6,  0, -2, -6,  6, 12, -2],\n",
       "        [-1, -4, -1,  1, -8, -2,  8, -4, -2, -6, -1, 12],\n",
       "        [ 5, 10, -5,  7,  2, -2,  1, -3,  9, 10, -6,  1],\n",
       "        [ 7, -4, -1,  3, 13, -5, -6,  2, -3, -8,  8,  3],\n",
       "        [ 1,  2,  1, -2, -5, 11, -8,  9,  0, 12,  0, -2]]])"
      ]
     },
     "execution_count": 166,
     "metadata": {},
     "output_type": "execute_result"
    }
   ],
   "source": [
    "# Initializing arrays of random integers\n",
    "\n",
    "np.random.randint(-8,14, size=(4,8,12))   #This gives us an array of integers, with the specified rows and columns (4 times, basically 3D arrays), within the range of -8 and 14."
   ]
  },
  {
   "cell_type": "code",
   "execution_count": 167,
   "id": "732f799a",
   "metadata": {},
   "outputs": [
    {
     "data": {
      "text/plain": [
       "array([[1., 0., 0., 0., 0., 0., 0., 0., 0., 0., 0., 0.],\n",
       "       [0., 1., 0., 0., 0., 0., 0., 0., 0., 0., 0., 0.],\n",
       "       [0., 0., 1., 0., 0., 0., 0., 0., 0., 0., 0., 0.],\n",
       "       [0., 0., 0., 1., 0., 0., 0., 0., 0., 0., 0., 0.],\n",
       "       [0., 0., 0., 0., 1., 0., 0., 0., 0., 0., 0., 0.],\n",
       "       [0., 0., 0., 0., 0., 1., 0., 0., 0., 0., 0., 0.],\n",
       "       [0., 0., 0., 0., 0., 0., 1., 0., 0., 0., 0., 0.],\n",
       "       [0., 0., 0., 0., 0., 0., 0., 1., 0., 0., 0., 0.],\n",
       "       [0., 0., 0., 0., 0., 0., 0., 0., 1., 0., 0., 0.],\n",
       "       [0., 0., 0., 0., 0., 0., 0., 0., 0., 1., 0., 0.],\n",
       "       [0., 0., 0., 0., 0., 0., 0., 0., 0., 0., 1., 0.],\n",
       "       [0., 0., 0., 0., 0., 0., 0., 0., 0., 0., 0., 1.]])"
      ]
     },
     "execution_count": 167,
     "metadata": {},
     "output_type": "execute_result"
    }
   ],
   "source": [
    "# Initializing an identity matrix\n",
    "\n",
    "np.identity(12)"
   ]
  },
  {
   "cell_type": "code",
   "execution_count": 168,
   "id": "dbd73dad",
   "metadata": {},
   "outputs": [
    {
     "data": {
      "text/plain": [
       "array([[1., 0., 0.],\n",
       "       [0., 1., 0.],\n",
       "       [0., 0., 1.]])"
      ]
     },
     "execution_count": 168,
     "metadata": {},
     "output_type": "execute_result"
    }
   ],
   "source": [
    "# Initializing an identity matrix\n",
    "\n",
    "np.identity(3)"
   ]
  },
  {
   "cell_type": "code",
   "execution_count": 169,
   "id": "b3643502",
   "metadata": {},
   "outputs": [
    {
     "data": {
      "text/plain": [
       "array([[1., 0., 0., 0.],\n",
       "       [0., 1., 0., 0.],\n",
       "       [0., 0., 1., 0.],\n",
       "       [0., 0., 0., 1.]])"
      ]
     },
     "execution_count": 169,
     "metadata": {},
     "output_type": "execute_result"
    }
   ],
   "source": [
    "# Initializing an identity matrix\n",
    "\n",
    "np.identity(4)"
   ]
  },
  {
   "cell_type": "code",
   "execution_count": 170,
   "id": "ea0da9a9",
   "metadata": {},
   "outputs": [
    {
     "data": {
      "text/plain": [
       "array([[1, 0, 0, 0, 0, 0, 0],\n",
       "       [0, 1, 0, 0, 0, 0, 0],\n",
       "       [0, 0, 1, 0, 0, 0, 0],\n",
       "       [0, 0, 0, 1, 0, 0, 0],\n",
       "       [0, 0, 0, 0, 1, 0, 0],\n",
       "       [0, 0, 0, 0, 0, 1, 0],\n",
       "       [0, 0, 0, 0, 0, 0, 1]])"
      ]
     },
     "execution_count": 170,
     "metadata": {},
     "output_type": "execute_result"
    }
   ],
   "source": [
    "# Initializing an identity matrix, making the elements to be integers.\n",
    "\n",
    "np.identity(7, dtype=int)"
   ]
  },
  {
   "cell_type": "code",
   "execution_count": 171,
   "id": "df06f142",
   "metadata": {},
   "outputs": [
    {
     "data": {
      "text/plain": [
       "array([[1, 0, 0, 0, 0, 0, 0, 0, 0, 0, 0, 0, 0, 0, 0, 0, 0, 0, 0, 0, 0, 0,\n",
       "        0, 0, 0],\n",
       "       [0, 1, 0, 0, 0, 0, 0, 0, 0, 0, 0, 0, 0, 0, 0, 0, 0, 0, 0, 0, 0, 0,\n",
       "        0, 0, 0],\n",
       "       [0, 0, 1, 0, 0, 0, 0, 0, 0, 0, 0, 0, 0, 0, 0, 0, 0, 0, 0, 0, 0, 0,\n",
       "        0, 0, 0],\n",
       "       [0, 0, 0, 1, 0, 0, 0, 0, 0, 0, 0, 0, 0, 0, 0, 0, 0, 0, 0, 0, 0, 0,\n",
       "        0, 0, 0],\n",
       "       [0, 0, 0, 0, 1, 0, 0, 0, 0, 0, 0, 0, 0, 0, 0, 0, 0, 0, 0, 0, 0, 0,\n",
       "        0, 0, 0],\n",
       "       [0, 0, 0, 0, 0, 1, 0, 0, 0, 0, 0, 0, 0, 0, 0, 0, 0, 0, 0, 0, 0, 0,\n",
       "        0, 0, 0],\n",
       "       [0, 0, 0, 0, 0, 0, 1, 0, 0, 0, 0, 0, 0, 0, 0, 0, 0, 0, 0, 0, 0, 0,\n",
       "        0, 0, 0],\n",
       "       [0, 0, 0, 0, 0, 0, 0, 1, 0, 0, 0, 0, 0, 0, 0, 0, 0, 0, 0, 0, 0, 0,\n",
       "        0, 0, 0],\n",
       "       [0, 0, 0, 0, 0, 0, 0, 0, 1, 0, 0, 0, 0, 0, 0, 0, 0, 0, 0, 0, 0, 0,\n",
       "        0, 0, 0],\n",
       "       [0, 0, 0, 0, 0, 0, 0, 0, 0, 1, 0, 0, 0, 0, 0, 0, 0, 0, 0, 0, 0, 0,\n",
       "        0, 0, 0],\n",
       "       [0, 0, 0, 0, 0, 0, 0, 0, 0, 0, 1, 0, 0, 0, 0, 0, 0, 0, 0, 0, 0, 0,\n",
       "        0, 0, 0],\n",
       "       [0, 0, 0, 0, 0, 0, 0, 0, 0, 0, 0, 1, 0, 0, 0, 0, 0, 0, 0, 0, 0, 0,\n",
       "        0, 0, 0],\n",
       "       [0, 0, 0, 0, 0, 0, 0, 0, 0, 0, 0, 0, 1, 0, 0, 0, 0, 0, 0, 0, 0, 0,\n",
       "        0, 0, 0],\n",
       "       [0, 0, 0, 0, 0, 0, 0, 0, 0, 0, 0, 0, 0, 1, 0, 0, 0, 0, 0, 0, 0, 0,\n",
       "        0, 0, 0],\n",
       "       [0, 0, 0, 0, 0, 0, 0, 0, 0, 0, 0, 0, 0, 0, 1, 0, 0, 0, 0, 0, 0, 0,\n",
       "        0, 0, 0],\n",
       "       [0, 0, 0, 0, 0, 0, 0, 0, 0, 0, 0, 0, 0, 0, 0, 1, 0, 0, 0, 0, 0, 0,\n",
       "        0, 0, 0],\n",
       "       [0, 0, 0, 0, 0, 0, 0, 0, 0, 0, 0, 0, 0, 0, 0, 0, 1, 0, 0, 0, 0, 0,\n",
       "        0, 0, 0],\n",
       "       [0, 0, 0, 0, 0, 0, 0, 0, 0, 0, 0, 0, 0, 0, 0, 0, 0, 1, 0, 0, 0, 0,\n",
       "        0, 0, 0],\n",
       "       [0, 0, 0, 0, 0, 0, 0, 0, 0, 0, 0, 0, 0, 0, 0, 0, 0, 0, 1, 0, 0, 0,\n",
       "        0, 0, 0],\n",
       "       [0, 0, 0, 0, 0, 0, 0, 0, 0, 0, 0, 0, 0, 0, 0, 0, 0, 0, 0, 1, 0, 0,\n",
       "        0, 0, 0],\n",
       "       [0, 0, 0, 0, 0, 0, 0, 0, 0, 0, 0, 0, 0, 0, 0, 0, 0, 0, 0, 0, 1, 0,\n",
       "        0, 0, 0],\n",
       "       [0, 0, 0, 0, 0, 0, 0, 0, 0, 0, 0, 0, 0, 0, 0, 0, 0, 0, 0, 0, 0, 1,\n",
       "        0, 0, 0],\n",
       "       [0, 0, 0, 0, 0, 0, 0, 0, 0, 0, 0, 0, 0, 0, 0, 0, 0, 0, 0, 0, 0, 0,\n",
       "        1, 0, 0],\n",
       "       [0, 0, 0, 0, 0, 0, 0, 0, 0, 0, 0, 0, 0, 0, 0, 0, 0, 0, 0, 0, 0, 0,\n",
       "        0, 1, 0],\n",
       "       [0, 0, 0, 0, 0, 0, 0, 0, 0, 0, 0, 0, 0, 0, 0, 0, 0, 0, 0, 0, 0, 0,\n",
       "        0, 0, 1]])"
      ]
     },
     "execution_count": 171,
     "metadata": {},
     "output_type": "execute_result"
    }
   ],
   "source": [
    "# Initializing an identity matrix, making the elements to be integers.\n",
    "\n",
    "np.identity(25, dtype=int)"
   ]
  },
  {
   "cell_type": "code",
   "execution_count": 172,
   "id": "ce758375",
   "metadata": {},
   "outputs": [
    {
     "data": {
      "text/plain": [
       "array([[ True, False, False, False, False, False, False, False, False,\n",
       "        False, False, False, False, False],\n",
       "       [False,  True, False, False, False, False, False, False, False,\n",
       "        False, False, False, False, False],\n",
       "       [False, False,  True, False, False, False, False, False, False,\n",
       "        False, False, False, False, False],\n",
       "       [False, False, False,  True, False, False, False, False, False,\n",
       "        False, False, False, False, False],\n",
       "       [False, False, False, False,  True, False, False, False, False,\n",
       "        False, False, False, False, False],\n",
       "       [False, False, False, False, False,  True, False, False, False,\n",
       "        False, False, False, False, False],\n",
       "       [False, False, False, False, False, False,  True, False, False,\n",
       "        False, False, False, False, False],\n",
       "       [False, False, False, False, False, False, False,  True, False,\n",
       "        False, False, False, False, False],\n",
       "       [False, False, False, False, False, False, False, False,  True,\n",
       "        False, False, False, False, False],\n",
       "       [False, False, False, False, False, False, False, False, False,\n",
       "         True, False, False, False, False],\n",
       "       [False, False, False, False, False, False, False, False, False,\n",
       "        False,  True, False, False, False],\n",
       "       [False, False, False, False, False, False, False, False, False,\n",
       "        False, False,  True, False, False],\n",
       "       [False, False, False, False, False, False, False, False, False,\n",
       "        False, False, False,  True, False],\n",
       "       [False, False, False, False, False, False, False, False, False,\n",
       "        False, False, False, False,  True]])"
      ]
     },
     "execution_count": 172,
     "metadata": {},
     "output_type": "execute_result"
    }
   ],
   "source": [
    "# Initializing an identity matrix, making the elements to be boolean.\n",
    "\n",
    "np.identity(14, dtype=bool)"
   ]
  },
  {
   "cell_type": "code",
   "execution_count": 187,
   "id": "ca2a95d1",
   "metadata": {},
   "outputs": [
    {
     "name": "stdout",
     "output_type": "stream",
     "text": [
      "[[0 0 0 0 0 0 0 0 0]\n",
      " [0 0 0 0 0 0 0 0 0]\n",
      " [0 0 0 0 0 0 0 0 0]\n",
      " [0 0 0 0 0 0 0 0 0]\n",
      " [0 0 0 0 0 0 0 0 0]\n",
      " [0 0 0 0 0 0 0 0 0]\n",
      " [0 0 0 0 0 0 0 0 0]\n",
      " [0 0 0 0 0 0 0 0 0]\n",
      " [0 0 0 0 0 0 0 0 0]]\n",
      "\n",
      "[[ 1  1 -3  1  1  1]\n",
      " [ 1  1  1  1  1  1]\n",
      " [ 1  1  1 -1  1  1]\n",
      " [ 1  1  1  1  1  1]\n",
      " [ 1  1  1  1  1  9]\n",
      " [ 1  1  1  1  1  1]]\n",
      "\n",
      "[[ 0  0  0  0  0  0  0  0  0]\n",
      " [ 0  0  0  0  0  0  0  0  0]\n",
      " [ 0  1  1 -3  1  1  1  0  0]\n",
      " [ 0  1  1  1  1  1  1  0  0]\n",
      " [ 0  1  1  1 -1  1  1  0  0]\n",
      " [ 0  1  1  1  1  1  1  0  0]\n",
      " [ 0  1  1  1  1  1  9  0  0]\n",
      " [ 0  1  1  1  1  1  1  0  0]\n",
      " [ 0  0  0  0  0  0  0  0  0]]\n"
     ]
    }
   ],
   "source": [
    "sample1 = np.zeros([9,9], dtype=int) #I am trying to carry out an exercise.\n",
    "print(sample1)\n",
    "\n",
    "print()\n",
    "\n",
    "change1 = np.ones([6,6], dtype=int)\n",
    "\n",
    "change1[2,3] = -1\n",
    "change1[0,-4] = -3\n",
    "change1[-2,-1] = 9\n",
    "\n",
    "print(change1)\n",
    "\n",
    "print()\n",
    "\n",
    "sample1[2:8,1:7] = change1\n",
    "\n",
    "print(sample1)"
   ]
  },
  {
   "cell_type": "markdown",
   "id": "f3ad5951",
   "metadata": {},
   "source": [
    "## Using Markdown"
   ]
  },
  {
   "cell_type": "markdown",
   "id": "55081bd8",
   "metadata": {},
   "source": [
    "### Copying arrays carefully"
   ]
  },
  {
   "cell_type": "code",
   "execution_count": null,
   "id": "2afc2bad",
   "metadata": {},
   "outputs": [
    {
     "name": "stdout",
     "output_type": "stream",
     "text": [
      "[3 7 9]\n",
      "\n",
      "[ 3 -1  9]\n"
     ]
    }
   ],
   "source": [
    "print(a) #Array a from up there!\n",
    "\n",
    "q = a.copy() #Using this style will ensure that the first array i.e the array being copied is not altered.\n",
    "\n",
    "q[1] = -1.34\n",
    "\n",
    "print()\n",
    "\n",
    "print(q)"
   ]
  },
  {
   "cell_type": "code",
   "execution_count": null,
   "id": "28e097c6",
   "metadata": {},
   "outputs": [],
   "source": []
  }
 ],
 "metadata": {
  "kernelspec": {
   "display_name": "Python 3 (ipykernel)",
   "language": "python",
   "name": "python3"
  },
  "language_info": {
   "codemirror_mode": {
    "name": "ipython",
    "version": 3
   },
   "file_extension": ".py",
   "mimetype": "text/x-python",
   "name": "python",
   "nbconvert_exporter": "python",
   "pygments_lexer": "ipython3",
   "version": "3.9.7"
  }
 },
 "nbformat": 4,
 "nbformat_minor": 5
}
