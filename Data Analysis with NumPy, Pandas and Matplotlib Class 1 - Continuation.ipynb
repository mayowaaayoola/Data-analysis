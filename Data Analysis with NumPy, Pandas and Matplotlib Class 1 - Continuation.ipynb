{
 "cells": [
  {
   "cell_type": "code",
   "execution_count": 24,
   "id": "775ef206",
   "metadata": {},
   "outputs": [
    {
     "name": "stdout",
     "output_type": "stream",
     "text": [
      "[[25 25 25 25 25 25]\n",
      " [25 25 25 25 25 25]\n",
      " [25 25 25 25 25 25]\n",
      " [25 25 25 25 25 25]\n",
      " [25 25 25 25 25 25]\n",
      " [25 25 25 25 25 25]]\n",
      "\n",
      "[[0 0]\n",
      " [0 0]]\n",
      "\n",
      "[[25 25 25 25 25 25]\n",
      " [25 25 25 25 25 25]\n",
      " [25 25 25 25 25 25]\n",
      " [25 25 25 25 25 25]\n",
      " [25 25 25 25 25 25]\n",
      " [25 25 25 25 25 25]]\n",
      "\n",
      "[[-4 -4 -4]\n",
      " [-4 -4 -4]\n",
      " [-4 -4 -4]]\n",
      "\n",
      "[[-4 -4 -4 25 25 25]\n",
      " [-4 -4 -4 25 25 25]\n",
      " [-4 -4 -4 25 25 25]\n",
      " [25 25 25  0  0 25]\n",
      " [25 25 25  0  0 25]\n",
      " [25 25 25 25 25 25]]\n"
     ]
    }
   ],
   "source": [
    "import numpy as nump #I can define how I import my Numpy\n",
    "\n",
    "x = nump.full((6,6), 25)\n",
    "\n",
    "print(x)\n",
    "\n",
    "print()\n",
    "\n",
    "y = nump.zeros([2,2], dtype=int)\n",
    "\n",
    "print(y)\n",
    "\n",
    "print()\n",
    "\n",
    "xx = x.copy()\n",
    "\n",
    "print(xx)\n",
    "\n",
    "xx[3:5,3:5] = y\n",
    "\n",
    "print()\n",
    "\n",
    "z = nump.full((3,3), -4)\n",
    "\n",
    "print(z)\n",
    "\n",
    "xx[-6:-3,-6:-3] = z\n",
    "\n",
    "print()\n",
    "\n",
    "print(xx)"
   ]
  },
  {
   "cell_type": "code",
   "execution_count": 25,
   "id": "e255688c",
   "metadata": {},
   "outputs": [
    {
     "data": {
      "text/plain": [
       "array([[11, 11, 11, 40, 40, 40],\n",
       "       [11, 11, 11, 40, 40, 40],\n",
       "       [11, 11, 11, 40, 40, 40],\n",
       "       [40, 40, 40, 15, 15, 40],\n",
       "       [40, 40, 40, 15, 15, 40],\n",
       "       [40, 40, 40, 40, 40, 40]])"
      ]
     },
     "execution_count": 25,
     "metadata": {},
     "output_type": "execute_result"
    }
   ],
   "source": [
    "xx + 15"
   ]
  },
  {
   "cell_type": "code",
   "execution_count": 26,
   "id": "e37c0b76",
   "metadata": {},
   "outputs": [
    {
     "data": {
      "text/plain": [
       "array([[-19, -19, -19,  10,  10,  10],\n",
       "       [-19, -19, -19,  10,  10,  10],\n",
       "       [-19, -19, -19,  10,  10,  10],\n",
       "       [ 10,  10,  10, -15, -15,  10],\n",
       "       [ 10,  10,  10, -15, -15,  10],\n",
       "       [ 10,  10,  10,  10,  10,  10]])"
      ]
     },
     "execution_count": 26,
     "metadata": {},
     "output_type": "execute_result"
    }
   ],
   "source": [
    "xx - 15"
   ]
  },
  {
   "cell_type": "code",
   "execution_count": 27,
   "id": "063233b5",
   "metadata": {},
   "outputs": [
    {
     "data": {
      "text/plain": [
       "array([[-60, -60, -60, 375, 375, 375],\n",
       "       [-60, -60, -60, 375, 375, 375],\n",
       "       [-60, -60, -60, 375, 375, 375],\n",
       "       [375, 375, 375,   0,   0, 375],\n",
       "       [375, 375, 375,   0,   0, 375],\n",
       "       [375, 375, 375, 375, 375, 375]])"
      ]
     },
     "execution_count": 27,
     "metadata": {},
     "output_type": "execute_result"
    }
   ],
   "source": [
    "xx * 15"
   ]
  },
  {
   "cell_type": "code",
   "execution_count": 28,
   "id": "160463ac",
   "metadata": {},
   "outputs": [
    {
     "data": {
      "text/plain": [
       "array([[-0.26666667, -0.26666667, -0.26666667,  1.66666667,  1.66666667,\n",
       "         1.66666667],\n",
       "       [-0.26666667, -0.26666667, -0.26666667,  1.66666667,  1.66666667,\n",
       "         1.66666667],\n",
       "       [-0.26666667, -0.26666667, -0.26666667,  1.66666667,  1.66666667,\n",
       "         1.66666667],\n",
       "       [ 1.66666667,  1.66666667,  1.66666667,  0.        ,  0.        ,\n",
       "         1.66666667],\n",
       "       [ 1.66666667,  1.66666667,  1.66666667,  0.        ,  0.        ,\n",
       "         1.66666667],\n",
       "       [ 1.66666667,  1.66666667,  1.66666667,  1.66666667,  1.66666667,\n",
       "         1.66666667]])"
      ]
     },
     "execution_count": 28,
     "metadata": {},
     "output_type": "execute_result"
    }
   ],
   "source": [
    "xx / 15"
   ]
  },
  {
   "cell_type": "code",
   "execution_count": 29,
   "id": "fa77b85c",
   "metadata": {},
   "outputs": [
    {
     "data": {
      "text/plain": [
       "array([[-1, -1, -1,  1,  1,  1],\n",
       "       [-1, -1, -1,  1,  1,  1],\n",
       "       [-1, -1, -1,  1,  1,  1],\n",
       "       [ 1,  1,  1,  0,  0,  1],\n",
       "       [ 1,  1,  1,  0,  0,  1],\n",
       "       [ 1,  1,  1,  1,  1,  1]], dtype=int32)"
      ]
     },
     "execution_count": 29,
     "metadata": {},
     "output_type": "execute_result"
    }
   ],
   "source": [
    "xx // 15"
   ]
  },
  {
   "cell_type": "code",
   "execution_count": 30,
   "id": "07aa4dcf",
   "metadata": {},
   "outputs": [
    {
     "data": {
      "text/plain": [
       "array([[21, 21, 21, 50, 50, 50],\n",
       "       [21, 21, 21, 50, 50, 50],\n",
       "       [21, 21, 21, 50, 50, 50],\n",
       "       [50, 50, 50, 25, 25, 50],\n",
       "       [50, 50, 50, 25, 25, 50],\n",
       "       [50, 50, 50, 50, 50, 50]])"
      ]
     },
     "execution_count": 30,
     "metadata": {},
     "output_type": "execute_result"
    }
   ],
   "source": [
    "xx + x"
   ]
  },
  {
   "cell_type": "code",
   "execution_count": 32,
   "id": "1b560267",
   "metadata": {},
   "outputs": [
    {
     "data": {
      "text/plain": [
       "array([[-29, -29, -29,   0,   0,   0],\n",
       "       [-29, -29, -29,   0,   0,   0],\n",
       "       [-29, -29, -29,   0,   0,   0],\n",
       "       [  0,   0,   0, -25, -25,   0],\n",
       "       [  0,   0,   0, -25, -25,   0],\n",
       "       [  0,   0,   0,   0,   0,   0]])"
      ]
     },
     "execution_count": 32,
     "metadata": {},
     "output_type": "execute_result"
    }
   ],
   "source": [
    "xx - x"
   ]
  },
  {
   "cell_type": "code",
   "execution_count": 33,
   "id": "ae15e1da",
   "metadata": {},
   "outputs": [
    {
     "data": {
      "text/plain": [
       "array([[  -64,   -64,   -64, 15625, 15625, 15625],\n",
       "       [  -64,   -64,   -64, 15625, 15625, 15625],\n",
       "       [  -64,   -64,   -64, 15625, 15625, 15625],\n",
       "       [15625, 15625, 15625,     0,     0, 15625],\n",
       "       [15625, 15625, 15625,     0,     0, 15625],\n",
       "       [15625, 15625, 15625, 15625, 15625, 15625]], dtype=int32)"
      ]
     },
     "execution_count": 33,
     "metadata": {},
     "output_type": "execute_result"
    }
   ],
   "source": [
    "xx ** 3"
   ]
  },
  {
   "cell_type": "code",
   "execution_count": 34,
   "id": "19b75939",
   "metadata": {},
   "outputs": [
    {
     "data": {
      "text/plain": [
       "array([[766306777, 766306777, 766306777, 766306777, 766306777, 766306777],\n",
       "       [766306777, 766306777, 766306777, 766306777, 766306777, 766306777],\n",
       "       [766306777, 766306777, 766306777, 766306777, 766306777, 766306777],\n",
       "       [766306777, 766306777, 766306777, 766306777, 766306777, 766306777],\n",
       "       [766306777, 766306777, 766306777, 766306777, 766306777, 766306777],\n",
       "       [766306777, 766306777, 766306777, 766306777, 766306777, 766306777]],\n",
       "      dtype=int32)"
      ]
     },
     "execution_count": 34,
     "metadata": {},
     "output_type": "execute_result"
    }
   ],
   "source": [
    "x ** 9"
   ]
  },
  {
   "cell_type": "code",
   "execution_count": 36,
   "id": "8d474a76",
   "metadata": {},
   "outputs": [
    {
     "data": {
      "text/plain": [
       "array([[0.7568025, 0.7568025, 0.7568025],\n",
       "       [0.7568025, 0.7568025, 0.7568025],\n",
       "       [0.7568025, 0.7568025, 0.7568025]])"
      ]
     },
     "execution_count": 36,
     "metadata": {},
     "output_type": "execute_result"
    }
   ],
   "source": [
    "nump.sin(z)"
   ]
  },
  {
   "cell_type": "code",
   "execution_count": 37,
   "id": "3abb7f16",
   "metadata": {},
   "outputs": [
    {
     "data": {
      "text/plain": [
       "array([[ 0.7568025 ,  0.7568025 ,  0.7568025 , -0.13235175, -0.13235175,\n",
       "        -0.13235175],\n",
       "       [ 0.7568025 ,  0.7568025 ,  0.7568025 , -0.13235175, -0.13235175,\n",
       "        -0.13235175],\n",
       "       [ 0.7568025 ,  0.7568025 ,  0.7568025 , -0.13235175, -0.13235175,\n",
       "        -0.13235175],\n",
       "       [-0.13235175, -0.13235175, -0.13235175,  0.        ,  0.        ,\n",
       "        -0.13235175],\n",
       "       [-0.13235175, -0.13235175, -0.13235175,  0.        ,  0.        ,\n",
       "        -0.13235175],\n",
       "       [-0.13235175, -0.13235175, -0.13235175, -0.13235175, -0.13235175,\n",
       "        -0.13235175]])"
      ]
     },
     "execution_count": 37,
     "metadata": {},
     "output_type": "execute_result"
    }
   ],
   "source": [
    "nump.sin(xx)"
   ]
  },
  {
   "cell_type": "code",
   "execution_count": 41,
   "id": "bfc0164a",
   "metadata": {},
   "outputs": [
    {
     "name": "stderr",
     "output_type": "stream",
     "text": [
      "C:\\Users\\padra\\AppData\\Local\\Temp/ipykernel_33248/2417367193.py:1: RuntimeWarning: invalid value encountered in arccosh\n",
      "  nump.arccosh(xx)\n"
     ]
    },
    {
     "data": {
      "text/plain": [
       "array([[       nan,        nan,        nan, 3.91162277, 3.91162277,\n",
       "        3.91162277],\n",
       "       [       nan,        nan,        nan, 3.91162277, 3.91162277,\n",
       "        3.91162277],\n",
       "       [       nan,        nan,        nan, 3.91162277, 3.91162277,\n",
       "        3.91162277],\n",
       "       [3.91162277, 3.91162277, 3.91162277,        nan,        nan,\n",
       "        3.91162277],\n",
       "       [3.91162277, 3.91162277, 3.91162277,        nan,        nan,\n",
       "        3.91162277],\n",
       "       [3.91162277, 3.91162277, 3.91162277, 3.91162277, 3.91162277,\n",
       "        3.91162277]])"
      ]
     },
     "execution_count": 41,
     "metadata": {},
     "output_type": "execute_result"
    }
   ],
   "source": [
    "nump.arccosh(xx)"
   ]
  },
  {
   "cell_type": "code",
   "execution_count": 42,
   "id": "6a51a78d",
   "metadata": {},
   "outputs": [
    {
     "data": {
      "text/plain": [
       "array([[1., 1., 1., 1., 1., 1.],\n",
       "       [1., 1., 1., 1., 1., 1.],\n",
       "       [1., 1., 1., 1., 1., 1.],\n",
       "       [1., 1., 1., 1., 1., 1.],\n",
       "       [1., 1., 1., 1., 1., 1.],\n",
       "       [1., 1., 1., 1., 1., 1.]])"
      ]
     },
     "execution_count": 42,
     "metadata": {},
     "output_type": "execute_result"
    }
   ],
   "source": [
    "nump.tanh(x)"
   ]
  },
  {
   "cell_type": "code",
   "execution_count": 43,
   "id": "c8af88f5",
   "metadata": {},
   "outputs": [
    {
     "data": {
      "text/plain": [
       "array([[3.60024497e+10, 3.60024497e+10, 3.60024497e+10, 3.60024497e+10,\n",
       "        3.60024497e+10, 3.60024497e+10],\n",
       "       [3.60024497e+10, 3.60024497e+10, 3.60024497e+10, 3.60024497e+10,\n",
       "        3.60024497e+10, 3.60024497e+10],\n",
       "       [3.60024497e+10, 3.60024497e+10, 3.60024497e+10, 3.60024497e+10,\n",
       "        3.60024497e+10, 3.60024497e+10],\n",
       "       [3.60024497e+10, 3.60024497e+10, 3.60024497e+10, 3.60024497e+10,\n",
       "        3.60024497e+10, 3.60024497e+10],\n",
       "       [3.60024497e+10, 3.60024497e+10, 3.60024497e+10, 3.60024497e+10,\n",
       "        3.60024497e+10, 3.60024497e+10],\n",
       "       [3.60024497e+10, 3.60024497e+10, 3.60024497e+10, 3.60024497e+10,\n",
       "        3.60024497e+10, 3.60024497e+10]])"
      ]
     },
     "execution_count": 43,
     "metadata": {},
     "output_type": "execute_result"
    }
   ],
   "source": [
    "nump.cosh(x)"
   ]
  },
  {
   "cell_type": "code",
   "execution_count": 44,
   "id": "dd3ef08f",
   "metadata": {},
   "outputs": [
    {
     "name": "stderr",
     "output_type": "stream",
     "text": [
      "C:\\Users\\padra\\AppData\\Local\\Temp/ipykernel_33248/2259309809.py:1: RuntimeWarning: invalid value encountered in arcsin\n",
      "  nump.arcsin(x)\n"
     ]
    },
    {
     "data": {
      "text/plain": [
       "array([[nan, nan, nan, nan, nan, nan],\n",
       "       [nan, nan, nan, nan, nan, nan],\n",
       "       [nan, nan, nan, nan, nan, nan],\n",
       "       [nan, nan, nan, nan, nan, nan],\n",
       "       [nan, nan, nan, nan, nan, nan],\n",
       "       [nan, nan, nan, nan, nan, nan]])"
      ]
     },
     "execution_count": 44,
     "metadata": {},
     "output_type": "execute_result"
    }
   ],
   "source": [
    "nump.arcsin(x)"
   ]
  },
  {
   "cell_type": "code",
   "execution_count": 45,
   "id": "69a95383",
   "metadata": {},
   "outputs": [
    {
     "name": "stderr",
     "output_type": "stream",
     "text": [
      "C:\\Users\\padra\\AppData\\Local\\Temp/ipykernel_33248/2505263134.py:1: RuntimeWarning: invalid value encountered in arccos\n",
      "  nump.arccos(x)\n"
     ]
    },
    {
     "data": {
      "text/plain": [
       "array([[nan, nan, nan, nan, nan, nan],\n",
       "       [nan, nan, nan, nan, nan, nan],\n",
       "       [nan, nan, nan, nan, nan, nan],\n",
       "       [nan, nan, nan, nan, nan, nan],\n",
       "       [nan, nan, nan, nan, nan, nan],\n",
       "       [nan, nan, nan, nan, nan, nan]])"
      ]
     },
     "execution_count": 45,
     "metadata": {},
     "output_type": "execute_result"
    }
   ],
   "source": [
    "nump.arccos(x)"
   ]
  },
  {
   "cell_type": "markdown",
   "id": "5d2b769c",
   "metadata": {},
   "source": [
    "#### Linear Algebra"
   ]
  },
  {
   "cell_type": "code",
   "execution_count": 46,
   "id": "b73b5caf",
   "metadata": {},
   "outputs": [
    {
     "data": {
      "text/plain": [
       "array([[1575, 1575, 1575, 1575, 1575, 1575],\n",
       "       [1575, 1575, 1575, 1575, 1575, 1575],\n",
       "       [1575, 1575, 1575, 1575, 1575, 1575],\n",
       "       [2500, 2500, 2500, 2500, 2500, 2500],\n",
       "       [2500, 2500, 2500, 2500, 2500, 2500],\n",
       "       [3750, 3750, 3750, 3750, 3750, 3750]])"
      ]
     },
     "execution_count": 46,
     "metadata": {},
     "output_type": "execute_result"
    }
   ],
   "source": [
    "nump.matmul(xx,x) #Matrix multiplication function"
   ]
  },
  {
   "cell_type": "code",
   "execution_count": 48,
   "id": "96104a4c",
   "metadata": {},
   "outputs": [
    {
     "name": "stdout",
     "output_type": "stream",
     "text": [
      "[[6 6 6 6]\n",
      " [6 6 6 6]\n",
      " [6 6 6 6]\n",
      " [6 6 6 6]\n",
      " [6 6 6 6]]\n",
      "\n",
      "[[1 1 1 1 1]\n",
      " [1 1 1 1 1]\n",
      " [1 1 1 1 1]\n",
      " [1 1 1 1 1]]\n"
     ]
    },
    {
     "data": {
      "text/plain": [
       "array([[24, 24, 24, 24, 24],\n",
       "       [24, 24, 24, 24, 24],\n",
       "       [24, 24, 24, 24, 24],\n",
       "       [24, 24, 24, 24, 24],\n",
       "       [24, 24, 24, 24, 24]])"
      ]
     },
     "execution_count": 48,
     "metadata": {},
     "output_type": "execute_result"
    }
   ],
   "source": [
    "m = nump.full((5,4), 6)\n",
    "print(m)\n",
    "\n",
    "print()\n",
    "\n",
    "n = nump.ones((4,5), dtype=int)\n",
    "print(n)\n",
    "\n",
    "nump.matmul(m,n) #Matrix multiplication function\n",
    "\n"
   ]
  },
  {
   "cell_type": "code",
   "execution_count": 8,
   "id": "c6798012",
   "metadata": {},
   "outputs": [
    {
     "data": {
      "text/plain": [
       "1.0"
      ]
     },
     "execution_count": 8,
     "metadata": {},
     "output_type": "execute_result"
    }
   ],
   "source": [
    "# To get the determinant\n",
    "import numpy as nump\n",
    "a = nump.identity(4)\n",
    "nump.linalg.det(a)"
   ]
  },
  {
   "cell_type": "code",
   "execution_count": 10,
   "id": "5b5be361",
   "metadata": {},
   "outputs": [
    {
     "name": "stdout",
     "output_type": "stream",
     "text": [
      "[[4 4 4 4 4]\n",
      " [4 4 4 4 4]\n",
      " [4 4 4 4 4]\n",
      " [4 4 4 4 4]\n",
      " [4 4 4 4 4]]\n"
     ]
    },
    {
     "data": {
      "text/plain": [
       "0.0"
      ]
     },
     "execution_count": 10,
     "metadata": {},
     "output_type": "execute_result"
    }
   ],
   "source": [
    "# To get the determinant\n",
    "import numpy as nump\n",
    "b = nump.full((5,5),4)\n",
    "print(b)\n",
    "nump.linalg.det(b)"
   ]
  },
  {
   "cell_type": "code",
   "execution_count": 16,
   "id": "781bd5fa",
   "metadata": {},
   "outputs": [
    {
     "name": "stdout",
     "output_type": "stream",
     "text": [
      "[[ -2.9   -3.     1.4    0.  ]\n",
      " [ 30.   -21.    45.   -99.  ]\n",
      " [  1.2    0.8    6.6   -0.9 ]\n",
      " [-12.5    5.12   7.8   -0.4 ]]\n"
     ]
    },
    {
     "data": {
      "text/plain": [
       "-34790.84760000007"
      ]
     },
     "execution_count": 16,
     "metadata": {},
     "output_type": "execute_result"
    }
   ],
   "source": [
    "# To get the determinant\n",
    "import numpy as nump\n",
    "c = nump.array([[-2.9,-3,1.4,0],[30,-21,45,-99],[1.2,0.8,6.6,-0.9],[-12.5,5.12,7.8,-0.4]])\n",
    "print(c)\n",
    "nump.linalg.det(c)"
   ]
  },
  {
   "cell_type": "code",
   "execution_count": 17,
   "id": "f7bdb9fe",
   "metadata": {},
   "outputs": [
    {
     "name": "stdout",
     "output_type": "stream",
     "text": [
      "[[0.49850983 0.35865804 0.85475488 0.48012334 0.42800864 0.74398958\n",
      "  0.19870495]\n",
      " [0.78287065 0.97610571 0.10182839 0.61931154 0.40526144 0.29820378\n",
      "  0.0817797 ]\n",
      " [0.6353672  0.68895193 0.90257909 0.30703593 0.78464232 0.27933266\n",
      "  0.48708152]\n",
      " [0.96712153 0.48361815 0.60666707 0.9564149  0.63556797 0.06901329\n",
      "  0.00715838]\n",
      " [0.18256116 0.85840081 0.79969689 0.51300493 0.44565772 0.94854012\n",
      "  0.58569436]\n",
      " [0.12709345 0.79803012 0.95117599 0.30083282 0.55949562 0.06691121\n",
      "  0.0392776 ]\n",
      " [0.82589355 0.38705345 0.73064163 0.07560433 0.5613676  0.44925367\n",
      "  0.95749938]]\n"
     ]
    }
   ],
   "source": [
    "d = nump.random.rand(7,7)\n",
    "print(d)"
   ]
  },
  {
   "cell_type": "code",
   "execution_count": 18,
   "id": "25593be0",
   "metadata": {},
   "outputs": [
    {
     "data": {
      "text/plain": [
       "0.045232410859446535"
      ]
     },
     "execution_count": 18,
     "metadata": {},
     "output_type": "execute_result"
    }
   ],
   "source": [
    "nump.linalg.det(d)"
   ]
  },
  {
   "cell_type": "markdown",
   "id": "7f8d97ba",
   "metadata": {},
   "source": [
    "#### Statistics"
   ]
  },
  {
   "cell_type": "code",
   "execution_count": 19,
   "id": "2641eb1d",
   "metadata": {},
   "outputs": [
    {
     "data": {
      "text/plain": [
       "0.007158379320868713"
      ]
     },
     "execution_count": 19,
     "metadata": {},
     "output_type": "execute_result"
    }
   ],
   "source": [
    "nump.min(d) #minimum value in the array"
   ]
  },
  {
   "cell_type": "code",
   "execution_count": 20,
   "id": "74b4cf16",
   "metadata": {},
   "outputs": [
    {
     "data": {
      "text/plain": [
       "0.9761057139941152"
      ]
     },
     "execution_count": 20,
     "metadata": {},
     "output_type": "execute_result"
    }
   ],
   "source": [
    "nump.max(d) #minimum value in the array"
   ]
  },
  {
   "cell_type": "code",
   "execution_count": 21,
   "id": "454c757b",
   "metadata": {},
   "outputs": [
    {
     "data": {
      "text/plain": [
       "array([0.19870495, 0.0817797 , 0.27933266, 0.00715838, 0.18256116,\n",
       "       0.0392776 , 0.07560433])"
      ]
     },
     "execution_count": 21,
     "metadata": {},
     "output_type": "execute_result"
    }
   ],
   "source": [
    "nump.min(d, axis = 1) "
   ]
  },
  {
   "cell_type": "code",
   "execution_count": 24,
   "id": "b3f361ed",
   "metadata": {},
   "outputs": [
    {
     "data": {
      "text/plain": [
       "array([0.85475488, 0.97610571, 0.90257909, 0.96712153, 0.94854012,\n",
       "       0.95117599, 0.95749938])"
      ]
     },
     "execution_count": 24,
     "metadata": {},
     "output_type": "execute_result"
    }
   ],
   "source": [
    "nump.max(d, axis = 1)"
   ]
  },
  {
   "cell_type": "code",
   "execution_count": 25,
   "id": "8220de18",
   "metadata": {},
   "outputs": [
    {
     "data": {
      "text/plain": [
       "25.80234882557734"
      ]
     },
     "execution_count": 25,
     "metadata": {},
     "output_type": "execute_result"
    }
   ],
   "source": [
    "nump.sum(d) #Sum of all the values in the array."
   ]
  },
  {
   "cell_type": "markdown",
   "id": "da9510a5",
   "metadata": {},
   "source": [
    "#### Reorganising Arrays"
   ]
  },
  {
   "cell_type": "code",
   "execution_count": 29,
   "id": "c5569cf9",
   "metadata": {},
   "outputs": [
    {
     "name": "stdout",
     "output_type": "stream",
     "text": [
      "[[ 2  3 -4]\n",
      " [ 1  0 -2]\n",
      " [ 6 -3  4]]\n"
     ]
    },
    {
     "data": {
      "text/plain": [
       "(3, 3)"
      ]
     },
     "execution_count": 29,
     "metadata": {},
     "output_type": "execute_result"
    }
   ],
   "source": [
    "before = nump.array([[2,3,-4],[1,0,-2],[6,-3,4]])\n",
    "print(before)\n",
    "before.shape"
   ]
  },
  {
   "cell_type": "code",
   "execution_count": 30,
   "id": "270ee5e6",
   "metadata": {},
   "outputs": [
    {
     "data": {
      "text/plain": [
       "(3, 3)"
      ]
     },
     "execution_count": 30,
     "metadata": {},
     "output_type": "execute_result"
    }
   ],
   "source": [
    "before = nump.array([[2,3,-4],[1,0,-2],[6,-3,4]])\n",
    "before\n",
    "before.shape"
   ]
  },
  {
   "cell_type": "code",
   "execution_count": 32,
   "id": "0a6f1ce5",
   "metadata": {},
   "outputs": [
    {
     "ename": "ValueError",
     "evalue": "cannot reshape array of size 9 into shape (3,2)",
     "output_type": "error",
     "traceback": [
      "\u001b[1;31m---------------------------------------------------------------------------\u001b[0m",
      "\u001b[1;31mValueError\u001b[0m                                Traceback (most recent call last)",
      "\u001b[1;32m~\\AppData\\Local\\Temp/ipykernel_22872/2841165847.py\u001b[0m in \u001b[0;36m<module>\u001b[1;34m\u001b[0m\n\u001b[1;32m----> 1\u001b[1;33m \u001b[0mafter\u001b[0m \u001b[1;33m=\u001b[0m \u001b[0mbefore\u001b[0m\u001b[1;33m.\u001b[0m\u001b[0mreshape\u001b[0m\u001b[1;33m(\u001b[0m\u001b[1;33m(\u001b[0m\u001b[1;36m3\u001b[0m\u001b[1;33m,\u001b[0m\u001b[1;36m2\u001b[0m\u001b[1;33m)\u001b[0m\u001b[1;33m)\u001b[0m\u001b[1;33m\u001b[0m\u001b[1;33m\u001b[0m\u001b[0m\n\u001b[0m\u001b[0;32m      2\u001b[0m \u001b[0mprint\u001b[0m\u001b[1;33m(\u001b[0m\u001b[0mafter\u001b[0m\u001b[1;33m)\u001b[0m\u001b[1;33m\u001b[0m\u001b[1;33m\u001b[0m\u001b[0m\n",
      "\u001b[1;31mValueError\u001b[0m: cannot reshape array of size 9 into shape (3,2)"
     ]
    }
   ],
   "source": [
    "after = before.reshape((3,2))\n",
    "print(after)"
   ]
  },
  {
   "cell_type": "code",
   "execution_count": 34,
   "id": "bb45d392",
   "metadata": {},
   "outputs": [
    {
     "name": "stdout",
     "output_type": "stream",
     "text": [
      "[[ 2  3 -4]\n",
      " [ 1  0 -2]]\n"
     ]
    },
    {
     "data": {
      "text/plain": [
       "(2, 3)"
      ]
     },
     "execution_count": 34,
     "metadata": {},
     "output_type": "execute_result"
    }
   ],
   "source": [
    "before1 = nump.array([[2,3,-4],[1,0,-2]])\n",
    "print(before1)\n",
    "before1.shape"
   ]
  },
  {
   "cell_type": "code",
   "execution_count": 35,
   "id": "ecc33c78",
   "metadata": {},
   "outputs": [
    {
     "name": "stdout",
     "output_type": "stream",
     "text": [
      "[[ 2  3]\n",
      " [-4  1]\n",
      " [ 0 -2]]\n"
     ]
    }
   ],
   "source": [
    "after = before1.reshape((3,2))\n",
    "print(after)"
   ]
  },
  {
   "cell_type": "code",
   "execution_count": 37,
   "id": "38b7b947",
   "metadata": {},
   "outputs": [
    {
     "ename": "ValueError",
     "evalue": "cannot reshape array of size 6 into shape (5,1)",
     "output_type": "error",
     "traceback": [
      "\u001b[1;31m---------------------------------------------------------------------------\u001b[0m",
      "\u001b[1;31mValueError\u001b[0m                                Traceback (most recent call last)",
      "\u001b[1;32m~\\AppData\\Local\\Temp/ipykernel_22872/1493146164.py\u001b[0m in \u001b[0;36m<module>\u001b[1;34m\u001b[0m\n\u001b[1;32m----> 1\u001b[1;33m \u001b[0mafter\u001b[0m \u001b[1;33m=\u001b[0m \u001b[0mbefore1\u001b[0m\u001b[1;33m.\u001b[0m\u001b[0mreshape\u001b[0m\u001b[1;33m(\u001b[0m\u001b[1;33m(\u001b[0m\u001b[1;36m5\u001b[0m\u001b[1;33m,\u001b[0m\u001b[1;36m1\u001b[0m\u001b[1;33m)\u001b[0m\u001b[1;33m)\u001b[0m\u001b[1;33m\u001b[0m\u001b[1;33m\u001b[0m\u001b[0m\n\u001b[0m\u001b[0;32m      2\u001b[0m \u001b[0mprint\u001b[0m\u001b[1;33m(\u001b[0m\u001b[0mafter\u001b[0m\u001b[1;33m)\u001b[0m\u001b[1;33m\u001b[0m\u001b[1;33m\u001b[0m\u001b[0m\n",
      "\u001b[1;31mValueError\u001b[0m: cannot reshape array of size 6 into shape (5,1)"
     ]
    }
   ],
   "source": [
    "after = before1.reshape((5,1))\n",
    "print(after)"
   ]
  },
  {
   "cell_type": "code",
   "execution_count": 50,
   "id": "7529a823",
   "metadata": {},
   "outputs": [
    {
     "name": "stdout",
     "output_type": "stream",
     "text": [
      "[[0.05156942 0.48036936 0.8918268  0.22543258]\n",
      " [0.6852451  0.74691728 0.10884937 0.41985718]\n",
      " [0.98914143 0.70126818 0.17833877 0.40553427]\n",
      " [0.81901574 0.95650993 0.74965551 0.68873769]]\n",
      "\n",
      "[[ -2.9   -3.     1.4    0.  ]\n",
      " [ 30.   -21.    45.   -99.  ]\n",
      " [  1.2    0.8    6.6   -0.9 ]\n",
      " [-12.5    5.12   7.8   -0.4 ]]\n",
      "\n",
      "\n",
      "[[ 5.15694242e-02  4.80369363e-01  8.91826801e-01  2.25432580e-01]\n",
      " [ 6.85245103e-01  7.46917277e-01  1.08849370e-01  4.19857185e-01]\n",
      " [ 9.89141431e-01  7.01268176e-01  1.78338767e-01  4.05534271e-01]\n",
      " [ 8.19015736e-01  9.56509926e-01  7.49655514e-01  6.88737689e-01]\n",
      " [-2.90000000e+00 -3.00000000e+00  1.40000000e+00  0.00000000e+00]\n",
      " [ 3.00000000e+01 -2.10000000e+01  4.50000000e+01 -9.90000000e+01]\n",
      " [ 1.20000000e+00  8.00000000e-01  6.60000000e+00 -9.00000000e-01]\n",
      " [-1.25000000e+01  5.12000000e+00  7.80000000e+00 -4.00000000e-01]]\n"
     ]
    }
   ],
   "source": [
    "#Vertically stacking vectors\n",
    "e = nump.random.rand(4,4)\n",
    "print(e)\n",
    "\n",
    "print()\n",
    "\n",
    "print(c)\n",
    "\n",
    "print()\n",
    "\n",
    "nump.vstack([e,c])\n",
    "\n",
    "print()\n",
    "\n",
    "print(nump.vstack([e,c]))"
   ]
  },
  {
   "cell_type": "code",
   "execution_count": 51,
   "id": "088debb7",
   "metadata": {},
   "outputs": [
    {
     "name": "stdout",
     "output_type": "stream",
     "text": [
      "\n",
      "[[ 5.15694242e-02  4.80369363e-01  8.91826801e-01  2.25432580e-01]\n",
      " [ 6.85245103e-01  7.46917277e-01  1.08849370e-01  4.19857185e-01]\n",
      " [ 9.89141431e-01  7.01268176e-01  1.78338767e-01  4.05534271e-01]\n",
      " [ 8.19015736e-01  9.56509926e-01  7.49655514e-01  6.88737689e-01]\n",
      " [ 5.15694242e-02  4.80369363e-01  8.91826801e-01  2.25432580e-01]\n",
      " [ 6.85245103e-01  7.46917277e-01  1.08849370e-01  4.19857185e-01]\n",
      " [ 9.89141431e-01  7.01268176e-01  1.78338767e-01  4.05534271e-01]\n",
      " [ 8.19015736e-01  9.56509926e-01  7.49655514e-01  6.88737689e-01]\n",
      " [-2.90000000e+00 -3.00000000e+00  1.40000000e+00  0.00000000e+00]\n",
      " [ 3.00000000e+01 -2.10000000e+01  4.50000000e+01 -9.90000000e+01]\n",
      " [ 1.20000000e+00  8.00000000e-01  6.60000000e+00 -9.00000000e-01]\n",
      " [-1.25000000e+01  5.12000000e+00  7.80000000e+00 -4.00000000e-01]\n",
      " [-2.90000000e+00 -3.00000000e+00  1.40000000e+00  0.00000000e+00]\n",
      " [ 3.00000000e+01 -2.10000000e+01  4.50000000e+01 -9.90000000e+01]\n",
      " [ 1.20000000e+00  8.00000000e-01  6.60000000e+00 -9.00000000e-01]\n",
      " [-1.25000000e+01  5.12000000e+00  7.80000000e+00 -4.00000000e-01]]\n"
     ]
    }
   ],
   "source": [
    "nump.vstack([e,c])\n",
    "\n",
    "print()\n",
    "\n",
    "print(nump.vstack([e,e,c,c]))"
   ]
  },
  {
   "cell_type": "code",
   "execution_count": 52,
   "id": "e5791b30",
   "metadata": {},
   "outputs": [
    {
     "name": "stdout",
     "output_type": "stream",
     "text": [
      "\n",
      "[[ 5.15694242e-02  4.80369363e-01  8.91826801e-01  2.25432580e-01\n",
      "  -2.90000000e+00 -3.00000000e+00  1.40000000e+00  0.00000000e+00]\n",
      " [ 6.85245103e-01  7.46917277e-01  1.08849370e-01  4.19857185e-01\n",
      "   3.00000000e+01 -2.10000000e+01  4.50000000e+01 -9.90000000e+01]\n",
      " [ 9.89141431e-01  7.01268176e-01  1.78338767e-01  4.05534271e-01\n",
      "   1.20000000e+00  8.00000000e-01  6.60000000e+00 -9.00000000e-01]\n",
      " [ 8.19015736e-01  9.56509926e-01  7.49655514e-01  6.88737689e-01\n",
      "  -1.25000000e+01  5.12000000e+00  7.80000000e+00 -4.00000000e-01]]\n"
     ]
    }
   ],
   "source": [
    "#Horizontally stacking vectors\n",
    "\n",
    "print()\n",
    "\n",
    "print(nump.hstack([e,c]))"
   ]
  },
  {
   "cell_type": "markdown",
   "id": "71357635",
   "metadata": {},
   "source": [
    "##### How to load data from a file"
   ]
  },
  {
   "cell_type": "code",
   "execution_count": 58,
   "id": "a8eb966e",
   "metadata": {},
   "outputs": [
    {
     "ename": "OSError",
     "evalue": "Data.txt not found.",
     "output_type": "error",
     "traceback": [
      "\u001b[1;31m---------------------------------------------------------------------------\u001b[0m",
      "\u001b[1;31mOSError\u001b[0m                                   Traceback (most recent call last)",
      "\u001b[1;32m~\\AppData\\Local\\Temp/ipykernel_22872/1468223527.py\u001b[0m in \u001b[0;36m<module>\u001b[1;34m\u001b[0m\n\u001b[1;32m----> 1\u001b[1;33m \u001b[0mnump\u001b[0m\u001b[1;33m.\u001b[0m\u001b[0mgenfromtxt\u001b[0m\u001b[1;33m(\u001b[0m\u001b[1;34m'Data.txt'\u001b[0m\u001b[1;33m,\u001b[0m \u001b[0mdelimiter\u001b[0m\u001b[1;33m=\u001b[0m\u001b[1;34m','\u001b[0m\u001b[1;33m)\u001b[0m\u001b[1;33m\u001b[0m\u001b[1;33m\u001b[0m\u001b[0m\n\u001b[0m",
      "\u001b[1;32mC:\\ProgramData\\Anaconda3\\lib\\site-packages\\numpy\\lib\\npyio.py\u001b[0m in \u001b[0;36mgenfromtxt\u001b[1;34m(fname, dtype, comments, delimiter, skip_header, skip_footer, converters, missing_values, filling_values, usecols, names, excludelist, deletechars, replace_space, autostrip, case_sensitive, defaultfmt, unpack, usemask, loose, invalid_raise, max_rows, encoding, like)\u001b[0m\n\u001b[0;32m   1789\u001b[0m             \u001b[0mfname\u001b[0m \u001b[1;33m=\u001b[0m \u001b[0mos_fspath\u001b[0m\u001b[1;33m(\u001b[0m\u001b[0mfname\u001b[0m\u001b[1;33m)\u001b[0m\u001b[1;33m\u001b[0m\u001b[1;33m\u001b[0m\u001b[0m\n\u001b[0;32m   1790\u001b[0m         \u001b[1;32mif\u001b[0m \u001b[0misinstance\u001b[0m\u001b[1;33m(\u001b[0m\u001b[0mfname\u001b[0m\u001b[1;33m,\u001b[0m \u001b[0mstr\u001b[0m\u001b[1;33m)\u001b[0m\u001b[1;33m:\u001b[0m\u001b[1;33m\u001b[0m\u001b[1;33m\u001b[0m\u001b[0m\n\u001b[1;32m-> 1791\u001b[1;33m             \u001b[0mfid\u001b[0m \u001b[1;33m=\u001b[0m \u001b[0mnp\u001b[0m\u001b[1;33m.\u001b[0m\u001b[0mlib\u001b[0m\u001b[1;33m.\u001b[0m\u001b[0m_datasource\u001b[0m\u001b[1;33m.\u001b[0m\u001b[0mopen\u001b[0m\u001b[1;33m(\u001b[0m\u001b[0mfname\u001b[0m\u001b[1;33m,\u001b[0m \u001b[1;34m'rt'\u001b[0m\u001b[1;33m,\u001b[0m \u001b[0mencoding\u001b[0m\u001b[1;33m=\u001b[0m\u001b[0mencoding\u001b[0m\u001b[1;33m)\u001b[0m\u001b[1;33m\u001b[0m\u001b[1;33m\u001b[0m\u001b[0m\n\u001b[0m\u001b[0;32m   1792\u001b[0m             \u001b[0mfid_ctx\u001b[0m \u001b[1;33m=\u001b[0m \u001b[0mcontextlib\u001b[0m\u001b[1;33m.\u001b[0m\u001b[0mclosing\u001b[0m\u001b[1;33m(\u001b[0m\u001b[0mfid\u001b[0m\u001b[1;33m)\u001b[0m\u001b[1;33m\u001b[0m\u001b[1;33m\u001b[0m\u001b[0m\n\u001b[0;32m   1793\u001b[0m         \u001b[1;32melse\u001b[0m\u001b[1;33m:\u001b[0m\u001b[1;33m\u001b[0m\u001b[1;33m\u001b[0m\u001b[0m\n",
      "\u001b[1;32mC:\\ProgramData\\Anaconda3\\lib\\site-packages\\numpy\\lib\\_datasource.py\u001b[0m in \u001b[0;36mopen\u001b[1;34m(path, mode, destpath, encoding, newline)\u001b[0m\n\u001b[0;32m    192\u001b[0m \u001b[1;33m\u001b[0m\u001b[0m\n\u001b[0;32m    193\u001b[0m     \u001b[0mds\u001b[0m \u001b[1;33m=\u001b[0m \u001b[0mDataSource\u001b[0m\u001b[1;33m(\u001b[0m\u001b[0mdestpath\u001b[0m\u001b[1;33m)\u001b[0m\u001b[1;33m\u001b[0m\u001b[1;33m\u001b[0m\u001b[0m\n\u001b[1;32m--> 194\u001b[1;33m     \u001b[1;32mreturn\u001b[0m \u001b[0mds\u001b[0m\u001b[1;33m.\u001b[0m\u001b[0mopen\u001b[0m\u001b[1;33m(\u001b[0m\u001b[0mpath\u001b[0m\u001b[1;33m,\u001b[0m \u001b[0mmode\u001b[0m\u001b[1;33m,\u001b[0m \u001b[0mencoding\u001b[0m\u001b[1;33m=\u001b[0m\u001b[0mencoding\u001b[0m\u001b[1;33m,\u001b[0m \u001b[0mnewline\u001b[0m\u001b[1;33m=\u001b[0m\u001b[0mnewline\u001b[0m\u001b[1;33m)\u001b[0m\u001b[1;33m\u001b[0m\u001b[1;33m\u001b[0m\u001b[0m\n\u001b[0m\u001b[0;32m    195\u001b[0m \u001b[1;33m\u001b[0m\u001b[0m\n\u001b[0;32m    196\u001b[0m \u001b[1;33m\u001b[0m\u001b[0m\n",
      "\u001b[1;32mC:\\ProgramData\\Anaconda3\\lib\\site-packages\\numpy\\lib\\_datasource.py\u001b[0m in \u001b[0;36mopen\u001b[1;34m(self, path, mode, encoding, newline)\u001b[0m\n\u001b[0;32m    529\u001b[0m                                       encoding=encoding, newline=newline)\n\u001b[0;32m    530\u001b[0m         \u001b[1;32melse\u001b[0m\u001b[1;33m:\u001b[0m\u001b[1;33m\u001b[0m\u001b[1;33m\u001b[0m\u001b[0m\n\u001b[1;32m--> 531\u001b[1;33m             \u001b[1;32mraise\u001b[0m \u001b[0mIOError\u001b[0m\u001b[1;33m(\u001b[0m\u001b[1;34m\"%s not found.\"\u001b[0m \u001b[1;33m%\u001b[0m \u001b[0mpath\u001b[0m\u001b[1;33m)\u001b[0m\u001b[1;33m\u001b[0m\u001b[1;33m\u001b[0m\u001b[0m\n\u001b[0m\u001b[0;32m    532\u001b[0m \u001b[1;33m\u001b[0m\u001b[0m\n\u001b[0;32m    533\u001b[0m \u001b[1;33m\u001b[0m\u001b[0m\n",
      "\u001b[1;31mOSError\u001b[0m: Data.txt not found."
     ]
    }
   ],
   "source": [
    "nump.genfromtxt('Data.txt', delimiter=',')"
   ]
  },
  {
   "cell_type": "markdown",
   "id": "1e2b2f80",
   "metadata": {},
   "source": [
    "## Pandas"
   ]
  },
  {
   "cell_type": "markdown",
   "id": "6befe6c3",
   "metadata": {},
   "source": [
    "### Loading data into Pandas"
   ]
  },
  {
   "cell_type": "code",
   "execution_count": 66,
   "id": "708c2b08",
   "metadata": {},
   "outputs": [
    {
     "name": "stdout",
     "output_type": "stream",
     "text": [
      "       #                   Name   Type 1  Type 2  HP  Attack  Defense  \\\n",
      "0      1              Bulbasaur    Grass  Poison  45      49       49   \n",
      "1      2                Ivysaur    Grass  Poison  60      62       63   \n",
      "2      3               Venusaur    Grass  Poison  80      82       83   \n",
      "3      3  VenusaurMega Venusaur    Grass  Poison  80     100      123   \n",
      "4      4             Charmander     Fire     NaN  39      52       43   \n",
      "..   ...                    ...      ...     ...  ..     ...      ...   \n",
      "795  719                Diancie     Rock   Fairy  50     100      150   \n",
      "796  719    DiancieMega Diancie     Rock   Fairy  50     160      110   \n",
      "797  720    HoopaHoopa Confined  Psychic   Ghost  80     110       60   \n",
      "798  720     HoopaHoopa Unbound  Psychic    Dark  80     160       60   \n",
      "799  721              Volcanion     Fire   Water  80     110      120   \n",
      "\n",
      "     Sp. Atk  Sp. Def  Speed  Generation  Legendary  \n",
      "0         65       65     45           1      False  \n",
      "1         80       80     60           1      False  \n",
      "2        100      100     80           1      False  \n",
      "3        122      120     80           1      False  \n",
      "4         60       50     65           1      False  \n",
      "..       ...      ...    ...         ...        ...  \n",
      "795      100      150     50           6       True  \n",
      "796      160      110    110           6       True  \n",
      "797      150      130     70           6       True  \n",
      "798      170      130     80           6       True  \n",
      "799      130       90     70           6       True  \n",
      "\n",
      "[800 rows x 12 columns]\n"
     ]
    }
   ],
   "source": [
    "import pandas as pd\n",
    "\n",
    "df = pd.read_csv(r'C:\\Users\\padra\\Desktop\\Python Practices\\pokemon_data.csv')\n",
    "\n",
    "print(df)"
   ]
  },
  {
   "cell_type": "code",
   "execution_count": 67,
   "id": "69d818f1",
   "metadata": {},
   "outputs": [
    {
     "name": "stdout",
     "output_type": "stream",
     "text": [
      "   #                   Name Type 1  Type 2  HP  Attack  Defense  Sp. Atk  \\\n",
      "0  1              Bulbasaur  Grass  Poison  45      49       49       65   \n",
      "1  2                Ivysaur  Grass  Poison  60      62       63       80   \n",
      "2  3               Venusaur  Grass  Poison  80      82       83      100   \n",
      "3  3  VenusaurMega Venusaur  Grass  Poison  80     100      123      122   \n",
      "\n",
      "   Sp. Def  Speed  Generation  Legendary  \n",
      "0       65     45           1      False  \n",
      "1       80     60           1      False  \n",
      "2      100     80           1      False  \n",
      "3      120     80           1      False  \n"
     ]
    }
   ],
   "source": [
    "import pandas as pd\n",
    "\n",
    "df = pd.read_csv(r'C:\\Users\\padra\\Desktop\\Python Practices\\pokemon_data.csv')\n",
    "\n",
    "print(df.head(4)) # Specify the number of rows"
   ]
  },
  {
   "cell_type": "code",
   "execution_count": 69,
   "id": "6d3888af",
   "metadata": {},
   "outputs": [
    {
     "name": "stdout",
     "output_type": "stream",
     "text": [
      "       #                 Name   Type 1  Type 2   HP  Attack  Defense  Sp. Atk  \\\n",
      "793  717              Yveltal     Dark  Flying  126     131       95      131   \n",
      "794  718     Zygarde50% Forme   Dragon  Ground  108     100      121       81   \n",
      "795  719              Diancie     Rock   Fairy   50     100      150      100   \n",
      "796  719  DiancieMega Diancie     Rock   Fairy   50     160      110      160   \n",
      "797  720  HoopaHoopa Confined  Psychic   Ghost   80     110       60      150   \n",
      "798  720   HoopaHoopa Unbound  Psychic    Dark   80     160       60      170   \n",
      "799  721            Volcanion     Fire   Water   80     110      120      130   \n",
      "\n",
      "     Sp. Def  Speed  Generation  Legendary  \n",
      "793       98     99           6       True  \n",
      "794       95     95           6       True  \n",
      "795      150     50           6       True  \n",
      "796      110    110           6       True  \n",
      "797      130     70           6       True  \n",
      "798      130     80           6       True  \n",
      "799       90     70           6       True  \n"
     ]
    }
   ],
   "source": [
    "import pandas as pd\n",
    "\n",
    "df = pd.read_csv(r'C:\\Users\\padra\\Desktop\\Python Practices\\pokemon_data.csv')\n",
    "\n",
    "print(df.tail(7)) # Specify the number of rows"
   ]
  },
  {
   "cell_type": "code",
   "execution_count": 72,
   "id": "c3ed6a88",
   "metadata": {},
   "outputs": [
    {
     "name": "stdout",
     "output_type": "stream",
     "text": [
      "    #\\tName\\tType 1\\tType 2\\tHP\\tAttack\\tDefense\\tSp. Atk\\tSp. Def\\tSpeed\\tGeneration\\tLegendary\n",
      "0    1\\tBulbasaur\\tGrass\\tPoison\\t45\\t49\\t49\\t65\\t6...                                          \n",
      "1    2\\tIvysaur\\tGrass\\tPoison\\t60\\t62\\t63\\t80\\t80\\...                                          \n",
      "2    3\\tVenusaur\\tGrass\\tPoison\\t80\\t82\\t83\\t100\\t1...                                          \n",
      "3    3\\tVenusaurMega Venusaur\\tGrass\\tPoison\\t80\\t1...                                          \n",
      "4    4\\tCharmander\\tFire\\t\\t39\\t52\\t43\\t60\\t50\\t65\\...                                          \n",
      "..                                                 ...                                          \n",
      "795  719\\tDiancie\\tRock\\tFairy\\t50\\t100\\t150\\t100\\t...                                          \n",
      "796  719\\tDiancieMega Diancie\\tRock\\tFairy\\t50\\t160...                                          \n",
      "797  720\\tHoopaHoopa Confined\\tPsychic\\tGhost\\t80\\t...                                          \n",
      "798  720\\tHoopaHoopa Unbound\\tPsychic\\tDark\\t80\\t16...                                          \n",
      "799  721\\tVolcanion\\tFire\\tWater\\t80\\t110\\t120\\t130...                                          \n",
      "\n",
      "[800 rows x 1 columns]\n"
     ]
    }
   ],
   "source": [
    "import pandas as pd\n",
    "\n",
    "# df = pd.read_csv(r'C:\\Users\\padra\\Desktop\\Python Practices\\pokemon_data.csv')\n",
    "\n",
    "# df_xlsx = pd.read_excel(r'C:\\Users\\padra\\Desktop\\Python Practices\\pokemon_data.xlsx')\n",
    "\n",
    "# df_txt = pd.read_txt(r'C:\\Users\\padra\\Desktop\\Python Practices\\pokemon_data.txt')\n",
    "\n",
    "df = pd.read_csv(r'C:\\Users\\padra\\Desktop\\Python Practices\\pokemon_data.txt')\n",
    "\n",
    "print(df)"
   ]
  },
  {
   "cell_type": "code",
   "execution_count": 73,
   "id": "6afcf890",
   "metadata": {},
   "outputs": [
    {
     "name": "stdout",
     "output_type": "stream",
     "text": [
      "       #                   Name   Type 1  Type 2  HP  Attack  Defense  \\\n",
      "0      1              Bulbasaur    Grass  Poison  45      49       49   \n",
      "1      2                Ivysaur    Grass  Poison  60      62       63   \n",
      "2      3               Venusaur    Grass  Poison  80      82       83   \n",
      "3      3  VenusaurMega Venusaur    Grass  Poison  80     100      123   \n",
      "4      4             Charmander     Fire     NaN  39      52       43   \n",
      "..   ...                    ...      ...     ...  ..     ...      ...   \n",
      "795  719                Diancie     Rock   Fairy  50     100      150   \n",
      "796  719    DiancieMega Diancie     Rock   Fairy  50     160      110   \n",
      "797  720    HoopaHoopa Confined  Psychic   Ghost  80     110       60   \n",
      "798  720     HoopaHoopa Unbound  Psychic    Dark  80     160       60   \n",
      "799  721              Volcanion     Fire   Water  80     110      120   \n",
      "\n",
      "     Sp. Atk  Sp. Def  Speed  Generation  Legendary  \n",
      "0         65       65     45           1      False  \n",
      "1         80       80     60           1      False  \n",
      "2        100      100     80           1      False  \n",
      "3        122      120     80           1      False  \n",
      "4         60       50     65           1      False  \n",
      "..       ...      ...    ...         ...        ...  \n",
      "795      100      150     50           6       True  \n",
      "796      160      110    110           6       True  \n",
      "797      150      130     70           6       True  \n",
      "798      170      130     80           6       True  \n",
      "799      130       90     70           6       True  \n",
      "\n",
      "[800 rows x 12 columns]\n"
     ]
    }
   ],
   "source": [
    "import pandas as pd\n",
    "\n",
    "# df = pd.read_csv(r'C:\\Users\\padra\\Desktop\\Python Practices\\pokemon_data.csv')\n",
    "\n",
    "# df_xlsx = pd.read_excel(r'C:\\Users\\padra\\Desktop\\Python Practices\\pokemon_data.xlsx')\n",
    "\n",
    "# df_txt = pd.read_txt(r'C:\\Users\\padra\\Desktop\\Python Practices\\pokemon_data.txt')\n",
    "\n",
    "df = pd.read_csv(r'C:\\Users\\padra\\Desktop\\Python Practices\\pokemon_data.txt', delimiter='\\t')\n",
    "\n",
    "print(df)"
   ]
  },
  {
   "cell_type": "markdown",
   "id": "998f6360",
   "metadata": {},
   "source": [
    "### Reading Data in Pandas"
   ]
  },
  {
   "cell_type": "code",
   "execution_count": 74,
   "id": "63f78d34",
   "metadata": {},
   "outputs": [
    {
     "name": "stdout",
     "output_type": "stream",
     "text": [
      "Index(['#', 'Name', 'Type 1', 'Type 2', 'HP', 'Attack', 'Defense', 'Sp. Atk',\n",
      "       'Sp. Def', 'Speed', 'Generation', 'Legendary'],\n",
      "      dtype='object')\n"
     ]
    }
   ],
   "source": [
    "print(df.columns)"
   ]
  },
  {
   "cell_type": "code",
   "execution_count": 75,
   "id": "eb7b3e73",
   "metadata": {},
   "outputs": [
    {
     "name": "stdout",
     "output_type": "stream",
     "text": [
      "0                  Bulbasaur\n",
      "1                    Ivysaur\n",
      "2                   Venusaur\n",
      "3      VenusaurMega Venusaur\n",
      "4                 Charmander\n",
      "               ...          \n",
      "795                  Diancie\n",
      "796      DiancieMega Diancie\n",
      "797      HoopaHoopa Confined\n",
      "798       HoopaHoopa Unbound\n",
      "799                Volcanion\n",
      "Name: Name, Length: 800, dtype: object\n"
     ]
    }
   ],
   "source": [
    "print(df['Name'])"
   ]
  },
  {
   "cell_type": "code",
   "execution_count": 76,
   "id": "67ff27b2",
   "metadata": {},
   "outputs": [
    {
     "name": "stdout",
     "output_type": "stream",
     "text": [
      "455               Shieldon\n",
      "456              Bastiodon\n",
      "457                  Burmy\n",
      "458    WormadamPlant Cloak\n",
      "459    WormadamSandy Cloak\n",
      "              ...         \n",
      "574                Panpour\n",
      "575               Simipour\n",
      "576                  Munna\n",
      "577               Musharna\n",
      "578                 Pidove\n",
      "Name: Name, Length: 124, dtype: object\n"
     ]
    }
   ],
   "source": [
    "print(df['Name'][455:579])"
   ]
  },
  {
   "cell_type": "code",
   "execution_count": 78,
   "id": "c0dc7f2f",
   "metadata": {},
   "outputs": [
    {
     "name": "stdout",
     "output_type": "stream",
     "text": [
      "455               Shieldon\n",
      "456              Bastiodon\n",
      "457                  Burmy\n",
      "458    WormadamPlant Cloak\n",
      "459    WormadamSandy Cloak\n",
      "              ...         \n",
      "574                Panpour\n",
      "575               Simipour\n",
      "576                  Munna\n",
      "577               Musharna\n",
      "578                 Pidove\n",
      "Name: Name, Length: 124, dtype: object\n"
     ]
    }
   ],
   "source": [
    "print(df.Name [455:579]) #With space"
   ]
  },
  {
   "cell_type": "code",
   "execution_count": 79,
   "id": "80a2e778",
   "metadata": {},
   "outputs": [
    {
     "name": "stdout",
     "output_type": "stream",
     "text": [
      "455               Shieldon\n",
      "456              Bastiodon\n",
      "457                  Burmy\n",
      "458    WormadamPlant Cloak\n",
      "459    WormadamSandy Cloak\n",
      "              ...         \n",
      "574                Panpour\n",
      "575               Simipour\n",
      "576                  Munna\n",
      "577               Musharna\n",
      "578                 Pidove\n",
      "Name: Name, Length: 124, dtype: object\n"
     ]
    }
   ],
   "source": [
    "print(df.Name[455:579]) #With no space"
   ]
  },
  {
   "cell_type": "code",
   "execution_count": 81,
   "id": "2921b9e0",
   "metadata": {},
   "outputs": [
    {
     "name": "stdout",
     "output_type": "stream",
     "text": [
      "Empty DataFrame\n",
      "Columns: []\n",
      "Index: [0, 1, 2, 3, 4, 5, 6, 7, 8, 9, 10, 11, 12, 13, 14, 15, 16, 17, 18, 19, 20, 21, 22, 23, 24, 25, 26, 27, 28, 29, 30, 31, 32, 33, 34, 35, 36, 37, 38, 39, 40, 41, 42, 43, 44, 45, 46, 47, 48, 49, 50, 51, 52, 53, 54, 55, 56, 57, 58, 59, 60, 61, 62, 63, 64, 65, 66, 67, 68, 69, 70, 71, 72, 73, 74, 75, 76, 77, 78, 79, 80, 81, 82, 83, 84, 85, 86, 87, 88, 89, 90, 91, 92, 93, 94, 95, 96, 97, 98, 99, ...]\n",
      "\n",
      "[800 rows x 0 columns]\n"
     ]
    }
   ],
   "source": [
    "print(df[['Name','Speed','Generation','Attack'][323:557]])"
   ]
  },
  {
   "cell_type": "code",
   "execution_count": 82,
   "id": "f76c2257",
   "metadata": {},
   "outputs": [
    {
     "name": "stdout",
     "output_type": "stream",
     "text": [
      "                      Name  Speed\n",
      "0                Bulbasaur     45\n",
      "1                  Ivysaur     60\n",
      "2                 Venusaur     80\n",
      "3    VenusaurMega Venusaur     80\n",
      "4               Charmander     65\n",
      "..                     ...    ...\n",
      "795                Diancie     50\n",
      "796    DiancieMega Diancie    110\n",
      "797    HoopaHoopa Confined     70\n",
      "798     HoopaHoopa Unbound     80\n",
      "799              Volcanion     70\n",
      "\n",
      "[800 rows x 2 columns]\n"
     ]
    }
   ],
   "source": [
    "print(df[['Name','Speed']])"
   ]
  },
  {
   "cell_type": "code",
   "execution_count": 83,
   "id": "36211e51",
   "metadata": {},
   "outputs": [
    {
     "name": "stdout",
     "output_type": "stream",
     "text": [
      "                      Name  Speed  Attack\n",
      "0                Bulbasaur     45      49\n",
      "1                  Ivysaur     60      62\n",
      "2                 Venusaur     80      82\n",
      "3    VenusaurMega Venusaur     80     100\n",
      "4               Charmander     65      52\n",
      "..                     ...    ...     ...\n",
      "795                Diancie     50     100\n",
      "796    DiancieMega Diancie    110     160\n",
      "797    HoopaHoopa Confined     70     110\n",
      "798     HoopaHoopa Unbound     80     160\n",
      "799              Volcanion     70     110\n",
      "\n",
      "[800 rows x 3 columns]\n"
     ]
    }
   ],
   "source": [
    "print(df[['Name','Speed','Attack']]) #Printing each column"
   ]
  },
  {
   "cell_type": "code",
   "execution_count": 84,
   "id": "4f0248fe",
   "metadata": {},
   "outputs": [
    {
     "name": "stdout",
     "output_type": "stream",
     "text": [
      "#                           306\n",
      "Name          AggronMega Aggron\n",
      "Type 1                    Steel\n",
      "Type 2                      NaN\n",
      "HP                           70\n",
      "Attack                      140\n",
      "Defense                     230\n",
      "Sp. Atk                      60\n",
      "Sp. Def                      80\n",
      "Speed                        50\n",
      "Generation                    3\n",
      "Legendary                 False\n",
      "Name: 333, dtype: object\n"
     ]
    }
   ],
   "source": [
    "print(df.iloc[333]) #This is to print out a row. iloc stands for integer location"
   ]
  },
  {
   "cell_type": "code",
   "execution_count": 85,
   "id": "5ccbda6e",
   "metadata": {},
   "outputs": [
    {
     "name": "stdout",
     "output_type": "stream",
     "text": [
      "       #                   Name    Type 1   Type 2   HP  Attack  Defense  \\\n",
      "333  306      AggronMega Aggron     Steel      NaN   70     140      230   \n",
      "334  307               Meditite  Fighting  Psychic   30      40       55   \n",
      "335  308               Medicham  Fighting  Psychic   60      60       75   \n",
      "336  308  MedichamMega Medicham  Fighting  Psychic   60     100       85   \n",
      "337  309              Electrike  Electric      NaN   40      45       40   \n",
      "..   ...                    ...       ...      ...  ...     ...      ...   \n",
      "765  695              Heliolisk  Electric   Normal   62      55       52   \n",
      "766  696                 Tyrunt      Rock   Dragon   58      89       77   \n",
      "767  697              Tyrantrum      Rock   Dragon   82     121      119   \n",
      "768  698                 Amaura      Rock      Ice   77      59       50   \n",
      "769  699                Aurorus      Rock      Ice  123      77       72   \n",
      "\n",
      "     Sp. Atk  Sp. Def  Speed  Generation  Legendary  \n",
      "333       60       80     50           3      False  \n",
      "334       40       55     60           3      False  \n",
      "335       60       75     80           3      False  \n",
      "336       80       85    100           3      False  \n",
      "337       65       40     65           3      False  \n",
      "..       ...      ...    ...         ...        ...  \n",
      "765      109       94    109           6      False  \n",
      "766       45       45     48           6      False  \n",
      "767       69       59     71           6      False  \n",
      "768       67       63     46           6      False  \n",
      "769       99       92     58           6      False  \n",
      "\n",
      "[437 rows x 12 columns]\n"
     ]
    }
   ],
   "source": [
    "print(df.iloc[333:770])"
   ]
  },
  {
   "cell_type": "code",
   "execution_count": null,
   "id": "dab0d540",
   "metadata": {},
   "outputs": [],
   "source": []
  }
 ],
 "metadata": {
  "kernelspec": {
   "display_name": "Python 3 (ipykernel)",
   "language": "python",
   "name": "python3"
  },
  "language_info": {
   "codemirror_mode": {
    "name": "ipython",
    "version": 3
   },
   "file_extension": ".py",
   "mimetype": "text/x-python",
   "name": "python",
   "nbconvert_exporter": "python",
   "pygments_lexer": "ipython3",
   "version": "3.9.7"
  }
 },
 "nbformat": 4,
 "nbformat_minor": 5
}
